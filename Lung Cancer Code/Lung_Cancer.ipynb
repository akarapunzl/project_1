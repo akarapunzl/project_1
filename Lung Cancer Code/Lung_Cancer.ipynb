{
 "cells": [
  {
   "cell_type": "markdown",
   "metadata": {},
   "source": [
    "Lung Cancer Research Project"
   ]
  },
  {
   "cell_type": "markdown",
   "metadata": {},
   "source": [
    "In this project we are looking at a study of patients with lung cancer, and trying to determine what risk factors played into their level of cancer. We wanted to look at different subgroups (Age and Gender) to determine how different groups of people's factors were at play. \n",
    "Some quetions we wanted to answer:\n",
    "1. Are the risk factors different for young vs old patients?\n",
    "2. Relation of pollution level to level of cancer?\n",
    "3. What are the risk factors in patients who have low-level smoking? (Active smoking vs passive smoking)\n",
    "4. Are men or women more likely to develop lung cancer?\n",
    "5. Relation of smoking level to level of cancer?\n",
    "6. Relation of alcohol and smoking in the patients \n",
    "7. Obesity and level of cancer relation"
   ]
  },
  {
   "cell_type": "markdown",
   "metadata": {},
   "source": [
    "Cleaning and data setup"
   ]
  },
  {
   "cell_type": "code",
   "execution_count": 52,
   "metadata": {},
   "outputs": [],
   "source": [
    "#import libraries \n",
    "\n",
    "import pandas as pd\n",
    "import matplotlib.pyplot as plt\n",
    "import scipy.stats as st\n",
    "import numpy as np"
   ]
  },
  {
   "cell_type": "code",
   "execution_count": 5,
   "metadata": {},
   "outputs": [
    {
     "data": {
      "text/html": [
       "<div>\n",
       "<style scoped>\n",
       "    .dataframe tbody tr th:only-of-type {\n",
       "        vertical-align: middle;\n",
       "    }\n",
       "\n",
       "    .dataframe tbody tr th {\n",
       "        vertical-align: top;\n",
       "    }\n",
       "\n",
       "    .dataframe thead th {\n",
       "        text-align: right;\n",
       "    }\n",
       "</style>\n",
       "<table border=\"1\" class=\"dataframe\">\n",
       "  <thead>\n",
       "    <tr style=\"text-align: right;\">\n",
       "      <th></th>\n",
       "      <th>index</th>\n",
       "      <th>Patient Id</th>\n",
       "      <th>Age</th>\n",
       "      <th>Gender</th>\n",
       "      <th>Air Pollution</th>\n",
       "      <th>Alcohol use</th>\n",
       "      <th>Dust Allergy</th>\n",
       "      <th>OccuPational Hazards</th>\n",
       "      <th>Genetic Risk</th>\n",
       "      <th>chronic Lung Disease</th>\n",
       "      <th>...</th>\n",
       "      <th>Fatigue</th>\n",
       "      <th>Weight Loss</th>\n",
       "      <th>Shortness of Breath</th>\n",
       "      <th>Wheezing</th>\n",
       "      <th>Swallowing Difficulty</th>\n",
       "      <th>Clubbing of Finger Nails</th>\n",
       "      <th>Frequent Cold</th>\n",
       "      <th>Dry Cough</th>\n",
       "      <th>Snoring</th>\n",
       "      <th>Level</th>\n",
       "    </tr>\n",
       "  </thead>\n",
       "  <tbody>\n",
       "    <tr>\n",
       "      <th>0</th>\n",
       "      <td>0</td>\n",
       "      <td>P1</td>\n",
       "      <td>33</td>\n",
       "      <td>1</td>\n",
       "      <td>2</td>\n",
       "      <td>4</td>\n",
       "      <td>5</td>\n",
       "      <td>4</td>\n",
       "      <td>3</td>\n",
       "      <td>2</td>\n",
       "      <td>...</td>\n",
       "      <td>3</td>\n",
       "      <td>4</td>\n",
       "      <td>2</td>\n",
       "      <td>2</td>\n",
       "      <td>3</td>\n",
       "      <td>1</td>\n",
       "      <td>2</td>\n",
       "      <td>3</td>\n",
       "      <td>4</td>\n",
       "      <td>Low</td>\n",
       "    </tr>\n",
       "    <tr>\n",
       "      <th>1</th>\n",
       "      <td>1</td>\n",
       "      <td>P10</td>\n",
       "      <td>17</td>\n",
       "      <td>1</td>\n",
       "      <td>3</td>\n",
       "      <td>1</td>\n",
       "      <td>5</td>\n",
       "      <td>3</td>\n",
       "      <td>4</td>\n",
       "      <td>2</td>\n",
       "      <td>...</td>\n",
       "      <td>1</td>\n",
       "      <td>3</td>\n",
       "      <td>7</td>\n",
       "      <td>8</td>\n",
       "      <td>6</td>\n",
       "      <td>2</td>\n",
       "      <td>1</td>\n",
       "      <td>7</td>\n",
       "      <td>2</td>\n",
       "      <td>Medium</td>\n",
       "    </tr>\n",
       "    <tr>\n",
       "      <th>2</th>\n",
       "      <td>2</td>\n",
       "      <td>P100</td>\n",
       "      <td>35</td>\n",
       "      <td>1</td>\n",
       "      <td>4</td>\n",
       "      <td>5</td>\n",
       "      <td>6</td>\n",
       "      <td>5</td>\n",
       "      <td>5</td>\n",
       "      <td>4</td>\n",
       "      <td>...</td>\n",
       "      <td>8</td>\n",
       "      <td>7</td>\n",
       "      <td>9</td>\n",
       "      <td>2</td>\n",
       "      <td>1</td>\n",
       "      <td>4</td>\n",
       "      <td>6</td>\n",
       "      <td>7</td>\n",
       "      <td>2</td>\n",
       "      <td>High</td>\n",
       "    </tr>\n",
       "    <tr>\n",
       "      <th>3</th>\n",
       "      <td>3</td>\n",
       "      <td>P1000</td>\n",
       "      <td>37</td>\n",
       "      <td>1</td>\n",
       "      <td>7</td>\n",
       "      <td>7</td>\n",
       "      <td>7</td>\n",
       "      <td>7</td>\n",
       "      <td>6</td>\n",
       "      <td>7</td>\n",
       "      <td>...</td>\n",
       "      <td>4</td>\n",
       "      <td>2</td>\n",
       "      <td>3</td>\n",
       "      <td>1</td>\n",
       "      <td>4</td>\n",
       "      <td>5</td>\n",
       "      <td>6</td>\n",
       "      <td>7</td>\n",
       "      <td>5</td>\n",
       "      <td>High</td>\n",
       "    </tr>\n",
       "    <tr>\n",
       "      <th>4</th>\n",
       "      <td>4</td>\n",
       "      <td>P101</td>\n",
       "      <td>46</td>\n",
       "      <td>1</td>\n",
       "      <td>6</td>\n",
       "      <td>8</td>\n",
       "      <td>7</td>\n",
       "      <td>7</td>\n",
       "      <td>7</td>\n",
       "      <td>6</td>\n",
       "      <td>...</td>\n",
       "      <td>3</td>\n",
       "      <td>2</td>\n",
       "      <td>4</td>\n",
       "      <td>1</td>\n",
       "      <td>4</td>\n",
       "      <td>2</td>\n",
       "      <td>4</td>\n",
       "      <td>2</td>\n",
       "      <td>3</td>\n",
       "      <td>High</td>\n",
       "    </tr>\n",
       "  </tbody>\n",
       "</table>\n",
       "<p>5 rows × 26 columns</p>\n",
       "</div>"
      ],
      "text/plain": [
       "   index Patient Id  Age  Gender  Air Pollution  Alcohol use  Dust Allergy  \\\n",
       "0      0         P1   33       1              2            4             5   \n",
       "1      1        P10   17       1              3            1             5   \n",
       "2      2       P100   35       1              4            5             6   \n",
       "3      3      P1000   37       1              7            7             7   \n",
       "4      4       P101   46       1              6            8             7   \n",
       "\n",
       "   OccuPational Hazards  Genetic Risk  chronic Lung Disease  ...  Fatigue  \\\n",
       "0                     4             3                     2  ...        3   \n",
       "1                     3             4                     2  ...        1   \n",
       "2                     5             5                     4  ...        8   \n",
       "3                     7             6                     7  ...        4   \n",
       "4                     7             7                     6  ...        3   \n",
       "\n",
       "   Weight Loss  Shortness of Breath  Wheezing  Swallowing Difficulty  \\\n",
       "0            4                    2         2                      3   \n",
       "1            3                    7         8                      6   \n",
       "2            7                    9         2                      1   \n",
       "3            2                    3         1                      4   \n",
       "4            2                    4         1                      4   \n",
       "\n",
       "   Clubbing of Finger Nails  Frequent Cold  Dry Cough  Snoring   Level  \n",
       "0                         1              2          3        4     Low  \n",
       "1                         2              1          7        2  Medium  \n",
       "2                         4              6          7        2    High  \n",
       "3                         5              6          7        5    High  \n",
       "4                         2              4          2        3    High  \n",
       "\n",
       "[5 rows x 26 columns]"
      ]
     },
     "execution_count": 5,
     "metadata": {},
     "output_type": "execute_result"
    }
   ],
   "source": [
    "#set file path\n",
    "cancer_data_path = \"../Resources/cancer patient data sets.csv\"\n",
    "#read the file path\n",
    "cancer_data = pd.read_csv(cancer_data_path)\n",
    "cancer_data.head()"
   ]
  },
  {
   "cell_type": "code",
   "execution_count": 8,
   "metadata": {},
   "outputs": [
    {
     "data": {
      "text/plain": [
       "1000"
      ]
     },
     "execution_count": 8,
     "metadata": {},
     "output_type": "execute_result"
    }
   ],
   "source": [
    "#check that the data is clean - check for duplicate values in Patient ID\n",
    "cancer_data[\"Patient Id\"].nunique()"
   ]
  },
  {
   "cell_type": "code",
   "execution_count": 12,
   "metadata": {},
   "outputs": [
    {
     "name": "stdout",
     "output_type": "stream",
     "text": [
      "<class 'pandas.core.frame.DataFrame'>\n",
      "RangeIndex: 1000 entries, 0 to 999\n",
      "Data columns (total 26 columns):\n",
      " #   Column                    Non-Null Count  Dtype \n",
      "---  ------                    --------------  ----- \n",
      " 0   index                     1000 non-null   int64 \n",
      " 1   Patient Id                1000 non-null   object\n",
      " 2   Age                       1000 non-null   int64 \n",
      " 3   Gender                    1000 non-null   int64 \n",
      " 4   Air Pollution             1000 non-null   int64 \n",
      " 5   Alcohol use               1000 non-null   int64 \n",
      " 6   Dust Allergy              1000 non-null   int64 \n",
      " 7   OccuPational Hazards      1000 non-null   int64 \n",
      " 8   Genetic Risk              1000 non-null   int64 \n",
      " 9   chronic Lung Disease      1000 non-null   int64 \n",
      " 10  Balanced Diet             1000 non-null   int64 \n",
      " 11  Obesity                   1000 non-null   int64 \n",
      " 12  Smoking                   1000 non-null   int64 \n",
      " 13  Passive Smoker            1000 non-null   int64 \n",
      " 14  Chest Pain                1000 non-null   int64 \n",
      " 15  Coughing of Blood         1000 non-null   int64 \n",
      " 16  Fatigue                   1000 non-null   int64 \n",
      " 17  Weight Loss               1000 non-null   int64 \n",
      " 18  Shortness of Breath       1000 non-null   int64 \n",
      " 19  Wheezing                  1000 non-null   int64 \n",
      " 20  Swallowing Difficulty     1000 non-null   int64 \n",
      " 21  Clubbing of Finger Nails  1000 non-null   int64 \n",
      " 22  Frequent Cold             1000 non-null   int64 \n",
      " 23  Dry Cough                 1000 non-null   int64 \n",
      " 24  Snoring                   1000 non-null   int64 \n",
      " 25  Level                     1000 non-null   object\n",
      "dtypes: int64(24), object(2)\n",
      "memory usage: 203.2+ KB\n"
     ]
    }
   ],
   "source": [
    "#cleaning data - checking that all columns are filled out\n",
    "cancer_data.info()"
   ]
  },
  {
   "cell_type": "code",
   "execution_count": 15,
   "metadata": {},
   "outputs": [
    {
     "data": {
      "text/html": [
       "<div>\n",
       "<style scoped>\n",
       "    .dataframe tbody tr th:only-of-type {\n",
       "        vertical-align: middle;\n",
       "    }\n",
       "\n",
       "    .dataframe tbody tr th {\n",
       "        vertical-align: top;\n",
       "    }\n",
       "\n",
       "    .dataframe thead th {\n",
       "        text-align: right;\n",
       "    }\n",
       "</style>\n",
       "<table border=\"1\" class=\"dataframe\">\n",
       "  <thead>\n",
       "    <tr style=\"text-align: right;\">\n",
       "      <th></th>\n",
       "      <th>Patient Id</th>\n",
       "      <th>Age</th>\n",
       "      <th>Gender</th>\n",
       "      <th>Air Pollution</th>\n",
       "      <th>Alcohol use</th>\n",
       "      <th>Genetic Risk</th>\n",
       "      <th>Obesity</th>\n",
       "      <th>Smoking</th>\n",
       "      <th>Passive Smoker</th>\n",
       "      <th>Level</th>\n",
       "    </tr>\n",
       "  </thead>\n",
       "  <tbody>\n",
       "    <tr>\n",
       "      <th>0</th>\n",
       "      <td>P1</td>\n",
       "      <td>33</td>\n",
       "      <td>1</td>\n",
       "      <td>2</td>\n",
       "      <td>4</td>\n",
       "      <td>3</td>\n",
       "      <td>4</td>\n",
       "      <td>3</td>\n",
       "      <td>2</td>\n",
       "      <td>Low</td>\n",
       "    </tr>\n",
       "    <tr>\n",
       "      <th>1</th>\n",
       "      <td>P10</td>\n",
       "      <td>17</td>\n",
       "      <td>1</td>\n",
       "      <td>3</td>\n",
       "      <td>1</td>\n",
       "      <td>4</td>\n",
       "      <td>2</td>\n",
       "      <td>2</td>\n",
       "      <td>4</td>\n",
       "      <td>Medium</td>\n",
       "    </tr>\n",
       "    <tr>\n",
       "      <th>2</th>\n",
       "      <td>P100</td>\n",
       "      <td>35</td>\n",
       "      <td>1</td>\n",
       "      <td>4</td>\n",
       "      <td>5</td>\n",
       "      <td>5</td>\n",
       "      <td>7</td>\n",
       "      <td>2</td>\n",
       "      <td>3</td>\n",
       "      <td>High</td>\n",
       "    </tr>\n",
       "    <tr>\n",
       "      <th>3</th>\n",
       "      <td>P1000</td>\n",
       "      <td>37</td>\n",
       "      <td>1</td>\n",
       "      <td>7</td>\n",
       "      <td>7</td>\n",
       "      <td>6</td>\n",
       "      <td>7</td>\n",
       "      <td>7</td>\n",
       "      <td>7</td>\n",
       "      <td>High</td>\n",
       "    </tr>\n",
       "    <tr>\n",
       "      <th>4</th>\n",
       "      <td>P101</td>\n",
       "      <td>46</td>\n",
       "      <td>1</td>\n",
       "      <td>6</td>\n",
       "      <td>8</td>\n",
       "      <td>7</td>\n",
       "      <td>7</td>\n",
       "      <td>8</td>\n",
       "      <td>7</td>\n",
       "      <td>High</td>\n",
       "    </tr>\n",
       "  </tbody>\n",
       "</table>\n",
       "</div>"
      ],
      "text/plain": [
       "  Patient Id  Age  Gender  Air Pollution  Alcohol use  Genetic Risk  Obesity  \\\n",
       "0         P1   33       1              2            4             3        4   \n",
       "1        P10   17       1              3            1             4        2   \n",
       "2       P100   35       1              4            5             5        7   \n",
       "3      P1000   37       1              7            7             6        7   \n",
       "4       P101   46       1              6            8             7        7   \n",
       "\n",
       "   Smoking  Passive Smoker   Level  \n",
       "0        3               2     Low  \n",
       "1        2               4  Medium  \n",
       "2        2               3    High  \n",
       "3        7               7    High  \n",
       "4        8               7    High  "
      ]
     },
     "execution_count": 15,
     "metadata": {},
     "output_type": "execute_result"
    }
   ],
   "source": [
    "#cleaning data - create new data frame that removes excess columnns\n",
    "clean_cancer = cancer_data[[\"Patient Id\", \"Age\", \"Gender\", \"Air Pollution\", \"Alcohol use\", \"Genetic Risk\", \"Obesity\", \"Smoking\", \"Passive Smoker\", \"Level\"]]\n",
    "clean_cancer.head()"
   ]
  },
  {
   "cell_type": "code",
   "execution_count": 27,
   "metadata": {},
   "outputs": [
    {
     "data": {
      "text/html": [
       "<div>\n",
       "<style scoped>\n",
       "    .dataframe tbody tr th:only-of-type {\n",
       "        vertical-align: middle;\n",
       "    }\n",
       "\n",
       "    .dataframe tbody tr th {\n",
       "        vertical-align: top;\n",
       "    }\n",
       "\n",
       "    .dataframe thead th {\n",
       "        text-align: right;\n",
       "    }\n",
       "</style>\n",
       "<table border=\"1\" class=\"dataframe\">\n",
       "  <thead>\n",
       "    <tr style=\"text-align: right;\">\n",
       "      <th></th>\n",
       "      <th>Patient Id</th>\n",
       "      <th>Age</th>\n",
       "      <th>Gender</th>\n",
       "      <th>Air Pollution</th>\n",
       "      <th>Alcohol use</th>\n",
       "      <th>Genetic Risk</th>\n",
       "      <th>Obesity</th>\n",
       "      <th>Smoking</th>\n",
       "      <th>Passive Smoker</th>\n",
       "      <th>Level</th>\n",
       "    </tr>\n",
       "  </thead>\n",
       "  <tbody>\n",
       "    <tr>\n",
       "      <th>0</th>\n",
       "      <td>P1</td>\n",
       "      <td>33</td>\n",
       "      <td>Male</td>\n",
       "      <td>2</td>\n",
       "      <td>4</td>\n",
       "      <td>3</td>\n",
       "      <td>4</td>\n",
       "      <td>3</td>\n",
       "      <td>2</td>\n",
       "      <td>Low</td>\n",
       "    </tr>\n",
       "    <tr>\n",
       "      <th>1</th>\n",
       "      <td>P10</td>\n",
       "      <td>17</td>\n",
       "      <td>Male</td>\n",
       "      <td>3</td>\n",
       "      <td>1</td>\n",
       "      <td>4</td>\n",
       "      <td>2</td>\n",
       "      <td>2</td>\n",
       "      <td>4</td>\n",
       "      <td>Medium</td>\n",
       "    </tr>\n",
       "    <tr>\n",
       "      <th>2</th>\n",
       "      <td>P100</td>\n",
       "      <td>35</td>\n",
       "      <td>Male</td>\n",
       "      <td>4</td>\n",
       "      <td>5</td>\n",
       "      <td>5</td>\n",
       "      <td>7</td>\n",
       "      <td>2</td>\n",
       "      <td>3</td>\n",
       "      <td>High</td>\n",
       "    </tr>\n",
       "    <tr>\n",
       "      <th>3</th>\n",
       "      <td>P1000</td>\n",
       "      <td>37</td>\n",
       "      <td>Male</td>\n",
       "      <td>7</td>\n",
       "      <td>7</td>\n",
       "      <td>6</td>\n",
       "      <td>7</td>\n",
       "      <td>7</td>\n",
       "      <td>7</td>\n",
       "      <td>High</td>\n",
       "    </tr>\n",
       "    <tr>\n",
       "      <th>4</th>\n",
       "      <td>P101</td>\n",
       "      <td>46</td>\n",
       "      <td>Male</td>\n",
       "      <td>6</td>\n",
       "      <td>8</td>\n",
       "      <td>7</td>\n",
       "      <td>7</td>\n",
       "      <td>8</td>\n",
       "      <td>7</td>\n",
       "      <td>High</td>\n",
       "    </tr>\n",
       "    <tr>\n",
       "      <th>...</th>\n",
       "      <td>...</td>\n",
       "      <td>...</td>\n",
       "      <td>...</td>\n",
       "      <td>...</td>\n",
       "      <td>...</td>\n",
       "      <td>...</td>\n",
       "      <td>...</td>\n",
       "      <td>...</td>\n",
       "      <td>...</td>\n",
       "      <td>...</td>\n",
       "    </tr>\n",
       "    <tr>\n",
       "      <th>995</th>\n",
       "      <td>P995</td>\n",
       "      <td>44</td>\n",
       "      <td>Male</td>\n",
       "      <td>6</td>\n",
       "      <td>7</td>\n",
       "      <td>7</td>\n",
       "      <td>7</td>\n",
       "      <td>7</td>\n",
       "      <td>8</td>\n",
       "      <td>High</td>\n",
       "    </tr>\n",
       "    <tr>\n",
       "      <th>996</th>\n",
       "      <td>P996</td>\n",
       "      <td>37</td>\n",
       "      <td>Female</td>\n",
       "      <td>6</td>\n",
       "      <td>8</td>\n",
       "      <td>7</td>\n",
       "      <td>7</td>\n",
       "      <td>7</td>\n",
       "      <td>8</td>\n",
       "      <td>High</td>\n",
       "    </tr>\n",
       "    <tr>\n",
       "      <th>997</th>\n",
       "      <td>P997</td>\n",
       "      <td>25</td>\n",
       "      <td>Female</td>\n",
       "      <td>4</td>\n",
       "      <td>5</td>\n",
       "      <td>5</td>\n",
       "      <td>7</td>\n",
       "      <td>2</td>\n",
       "      <td>3</td>\n",
       "      <td>High</td>\n",
       "    </tr>\n",
       "    <tr>\n",
       "      <th>998</th>\n",
       "      <td>P998</td>\n",
       "      <td>18</td>\n",
       "      <td>Female</td>\n",
       "      <td>6</td>\n",
       "      <td>8</td>\n",
       "      <td>7</td>\n",
       "      <td>7</td>\n",
       "      <td>8</td>\n",
       "      <td>7</td>\n",
       "      <td>High</td>\n",
       "    </tr>\n",
       "    <tr>\n",
       "      <th>999</th>\n",
       "      <td>P999</td>\n",
       "      <td>47</td>\n",
       "      <td>Male</td>\n",
       "      <td>6</td>\n",
       "      <td>5</td>\n",
       "      <td>5</td>\n",
       "      <td>7</td>\n",
       "      <td>2</td>\n",
       "      <td>3</td>\n",
       "      <td>High</td>\n",
       "    </tr>\n",
       "  </tbody>\n",
       "</table>\n",
       "<p>1000 rows × 10 columns</p>\n",
       "</div>"
      ],
      "text/plain": [
       "    Patient Id  Age  Gender  Air Pollution  Alcohol use  Genetic Risk  \\\n",
       "0           P1   33    Male              2            4             3   \n",
       "1          P10   17    Male              3            1             4   \n",
       "2         P100   35    Male              4            5             5   \n",
       "3        P1000   37    Male              7            7             6   \n",
       "4         P101   46    Male              6            8             7   \n",
       "..         ...  ...     ...            ...          ...           ...   \n",
       "995       P995   44    Male              6            7             7   \n",
       "996       P996   37  Female              6            8             7   \n",
       "997       P997   25  Female              4            5             5   \n",
       "998       P998   18  Female              6            8             7   \n",
       "999       P999   47    Male              6            5             5   \n",
       "\n",
       "     Obesity  Smoking  Passive Smoker   Level  \n",
       "0          4        3               2     Low  \n",
       "1          2        2               4  Medium  \n",
       "2          7        2               3    High  \n",
       "3          7        7               7    High  \n",
       "4          7        8               7    High  \n",
       "..       ...      ...             ...     ...  \n",
       "995        7        7               8    High  \n",
       "996        7        7               8    High  \n",
       "997        7        2               3    High  \n",
       "998        7        8               7    High  \n",
       "999        7        2               3    High  \n",
       "\n",
       "[1000 rows x 10 columns]"
      ]
     },
     "execution_count": 27,
     "metadata": {},
     "output_type": "execute_result"
    }
   ],
   "source": [
    "#cleaning data - replace \"1\" in Gender to Male and \"2\" to Female\n",
    "clean_cancer.loc[clean_cancer[\"Gender\"] == 1, \"Gender\"] = \"Male\"\n",
    "clean_cancer.loc[clean_cancer[\"Gender\"] == 2, \"Gender\"] = \"Female\"\n",
    "clean_cancer"
   ]
  },
  {
   "cell_type": "code",
   "execution_count": 104,
   "metadata": {},
   "outputs": [],
   "source": [
    "clean_cancer = clean_cancer.copy()"
   ]
  },
  {
   "cell_type": "code",
   "execution_count": 105,
   "metadata": {},
   "outputs": [
    {
     "data": {
      "text/plain": [
       "Patient Id          object\n",
       "Age                  int64\n",
       "Gender              object\n",
       "Air Pollution        int64\n",
       "Alcohol use          int64\n",
       "Genetic Risk         int64\n",
       "Obesity              int64\n",
       "Smoking              int64\n",
       "Passive Smoker       int64\n",
       "Level               object\n",
       "Age Group         category\n",
       "dtype: object"
      ]
     },
     "execution_count": 105,
     "metadata": {},
     "output_type": "execute_result"
    }
   ],
   "source": [
    "clean_cancer.dtypes"
   ]
  },
  {
   "cell_type": "markdown",
   "metadata": {},
   "source": [
    "Entire Dataset Analysis"
   ]
  },
  {
   "cell_type": "code",
   "execution_count": 138,
   "metadata": {},
   "outputs": [
    {
     "data": {
      "text/plain": [
       "Level\n",
       "High      365\n",
       "Medium    332\n",
       "Low       303\n",
       "Name: count, dtype: int64"
      ]
     },
     "execution_count": 138,
     "metadata": {},
     "output_type": "execute_result"
    }
   ],
   "source": [
    "#Look at level of cancer across the sample of patients\n",
    "levels_labels = clean_cancer[\"Level\"].value_counts()\n",
    "levels_labels"
   ]
  },
  {
   "cell_type": "code",
   "execution_count": 139,
   "metadata": {},
   "outputs": [
    {
     "data": {
      "image/png": "[encoded data removed]",
      "text/plain": [
       "<Figure size 640x480 with 1 Axes>"
      ]
     },
     "metadata": {},
     "output_type": "display_data"
    }
   ],
   "source": [
    "#create a pie chart showing the level of cancer across patients\n",
    "plt.pie(levels_labels, labels=levels_labels.index,\n",
    "        autopct=\"%1.1f%%\")\n",
    "plt.show()"
   ]
  },
  {
   "cell_type": "code",
   "execution_count": 107,
   "metadata": {},
   "outputs": [
    {
     "data": {
      "image/png": "[encoded data removed]",
      "text/plain": [
       "<Figure size 640x480 with 1 Axes>"
      ]
     },
     "metadata": {},
     "output_type": "display_data"
    }
   ],
   "source": [
    "#create a box plot showing level of air pollution to level of cancer\n",
    "levels = [\"Low\", \"Medium\", \"High\"]\n",
    "air_pollution = []\n",
    "\n",
    "for level in levels:\n",
    "    pollution_value = clean_cancer.loc[clean_cancer[\"Level\"] == level,\"Air Pollution\"]\n",
    "    air_pollution.append(pollution_value)\n",
    "    quartiles = pollution_value.quantile([0.25,0.5,0.75])\n",
    "\n",
    "plt.ylabel(\"Air Pollution\")\n",
    "plt.boxplot(air_pollution, labels=levels)\n",
    "plt.title(\"Level of Air Pollution per Cancer Level\")\n",
    "plt.show()\n"
   ]
  },
  {
   "cell_type": "markdown",
   "metadata": {},
   "source": [
    "Gender and Risk Factors"
   ]
  },
  {
   "cell_type": "code",
   "execution_count": 108,
   "metadata": {},
   "outputs": [
    {
     "data": {
      "text/plain": [
       "Gender\n",
       "Male      598\n",
       "Female    402\n",
       "Name: count, dtype: int64"
      ]
     },
     "execution_count": 108,
     "metadata": {},
     "output_type": "execute_result"
    }
   ],
   "source": [
    "#prepare data to plot ratio of men to women\n",
    "gender_counts = clean_cancer[\"Gender\"].value_counts()\n",
    "gender_counts"
   ]
  },
  {
   "cell_type": "code",
   "execution_count": 109,
   "metadata": {},
   "outputs": [
    {
     "data": {
      "image/png": "[encoded data removed]",
      "text/plain": [
       "<Figure size 640x480 with 1 Axes>"
      ]
     },
     "metadata": {},
     "output_type": "display_data"
    }
   ],
   "source": [
    "#plot the ratio of men to women in the study\n",
    "pie_graph = gender_counts.plot(kind=\"pie\", y=\"Gender\", autopct='%1.1f%%')\n",
    "pie_graph.set_ylabel(\"Gender\")\n",
    "plt.show()"
   ]
  },
  {
   "cell_type": "code",
   "execution_count": 110,
   "metadata": {},
   "outputs": [],
   "source": [
    "#create the gender subgroups\n",
    "male_group = clean_cancer.loc[clean_cancer[\"Gender\"] == \"Male\"]\n",
    "female_group = clean_cancer.loc[clean_cancer[\"Gender\"]== \"Female\"]"
   ]
  },
  {
   "cell_type": "code",
   "execution_count": 225,
   "metadata": {},
   "outputs": [
    {
     "data": {
      "image/png": "[encoded data removed]",
      "text/plain": [
       "<Figure size 640x480 with 1 Axes>"
      ]
     },
     "metadata": {},
     "output_type": "display_data"
    }
   ],
   "source": [
    "#plot a histogram of the breakdown of the age of the male patients\n",
    "plt.hist(male_group[\"Age\"])\n",
    "plt.title(\"Age Distributon of Males\")\n",
    "plt.show()"
   ]
  },
  {
   "cell_type": "code",
   "execution_count": 224,
   "metadata": {},
   "outputs": [
    {
     "data": {
      "image/png": "[encoded data removed]",
      "text/plain": [
       "<Figure size 640x480 with 1 Axes>"
      ]
     },
     "metadata": {},
     "output_type": "display_data"
    }
   ],
   "source": [
    "#same for female\n",
    "plt.hist(female_group[\"Age\"])\n",
    "plt.title(\"Age Distribution of Females\")\n",
    "plt.show()"
   ]
  },
  {
   "cell_type": "code",
   "execution_count": 111,
   "metadata": {},
   "outputs": [],
   "source": [
    "#Find the average level of alcohol use, obseity, and smoking for male and female groups\n",
    "male_alcohol = male_group[\"Alcohol use\"].mean()\n",
    "female_alcohol = female_group[\"Alcohol use\"].mean()\n",
    "male_obesity = male_group[\"Obesity\"].mean()\n",
    "female_obesity = female_group[\"Obesity\"].mean()\n",
    "male_smoking = male_group[\"Smoking\"].mean()\n",
    "female_smoking = female_group[\"Smoking\"].mean()\n"
   ]
  },
  {
   "cell_type": "code",
   "execution_count": 112,
   "metadata": {},
   "outputs": [],
   "source": [
    "#create function to plot male vs female average risk factors\n",
    "\n",
    "def plots (y_axis, y_label, title):\n",
    "    x_axis = [\"Male\", \"Female\"]\n",
    "    colors=[\"blue\", \"red\"]\n",
    "    plt.bar(x_axis, y_axis, color=colors)\n",
    "    plt.ylabel(y_label)\n",
    "    plt.xlabel(\"Gender\")\n",
    "    plt.title(title)\n",
    "    plt.show()\n"
   ]
  },
  {
   "cell_type": "code",
   "execution_count": 69,
   "metadata": {},
   "outputs": [
    {
     "data": {
      "image/png": "[encoded data removed]",
      "text/plain": [
       "<Figure size 640x480 with 1 Axes>"
      ]
     },
     "metadata": {},
     "output_type": "display_data"
    }
   ],
   "source": [
    "#plot averages for alcohol consumption\n",
    "y = [male_alcohol, female_alcohol]\n",
    "plots (y, \"Average Alcohol Intake Level\", \"Average Alcohol Intake By Gender\")"
   ]
  },
  {
   "cell_type": "code",
   "execution_count": 72,
   "metadata": {},
   "outputs": [
    {
     "data": {
      "image/png": "[encoded data removed]",
      "text/plain": [
       "<Figure size 640x480 with 1 Axes>"
      ]
     },
     "metadata": {},
     "output_type": "display_data"
    }
   ],
   "source": [
    "#plot obesity averages\n",
    "y = [male_obesity, female_obesity]\n",
    "plots (y, \"Average Obesity Level\", \"Average Obesity By Gender\")"
   ]
  },
  {
   "cell_type": "code",
   "execution_count": 73,
   "metadata": {},
   "outputs": [
    {
     "data": {
      "image/png": "[encoded data removed]",
      "text/plain": [
       "<Figure size 640x480 with 1 Axes>"
      ]
     },
     "metadata": {},
     "output_type": "display_data"
    }
   ],
   "source": [
    "#plot smoking averages\n",
    "y = [male_smoking, female_smoking]\n",
    "plots (y, \"Average Smoking Level\", \"Average Smoking Level By Gender\")"
   ]
  },
  {
   "cell_type": "code",
   "execution_count": 154,
   "metadata": {},
   "outputs": [
    {
     "data": {
      "text/html": [
       "<div>\n",
       "<style scoped>\n",
       "    .dataframe tbody tr th:only-of-type {\n",
       "        vertical-align: middle;\n",
       "    }\n",
       "\n",
       "    .dataframe tbody tr th {\n",
       "        vertical-align: top;\n",
       "    }\n",
       "\n",
       "    .dataframe thead th {\n",
       "        text-align: right;\n",
       "    }\n",
       "</style>\n",
       "<table border=\"1\" class=\"dataframe\">\n",
       "  <thead>\n",
       "    <tr style=\"text-align: right;\">\n",
       "      <th></th>\n",
       "      <th>Male</th>\n",
       "      <th>Female</th>\n",
       "    </tr>\n",
       "    <tr>\n",
       "      <th>Level</th>\n",
       "      <th></th>\n",
       "      <th></th>\n",
       "    </tr>\n",
       "  </thead>\n",
       "  <tbody>\n",
       "    <tr>\n",
       "      <th>High</th>\n",
       "      <td>252</td>\n",
       "      <td>113</td>\n",
       "    </tr>\n",
       "    <tr>\n",
       "      <th>Low</th>\n",
       "      <td>149</td>\n",
       "      <td>154</td>\n",
       "    </tr>\n",
       "    <tr>\n",
       "      <th>Medium</th>\n",
       "      <td>197</td>\n",
       "      <td>135</td>\n",
       "    </tr>\n",
       "  </tbody>\n",
       "</table>\n",
       "</div>"
      ],
      "text/plain": [
       "        Male  Female\n",
       "Level               \n",
       "High     252     113\n",
       "Low      149     154\n",
       "Medium   197     135"
      ]
     },
     "execution_count": 154,
     "metadata": {},
     "output_type": "execute_result"
    }
   ],
   "source": [
    "#get a data frame of level of cancer counts in male vs female\n",
    "male_levels = male_group[\"Level\"].value_counts()\n",
    "female_levels = female_group[\"Level\"].value_counts()\n",
    "gender_data = {\n",
    "    \"Male\": male_levels,\n",
    "    \"Female\": female_levels}\n",
    "\n",
    "gender_level_counts = pd.DataFrame(gender_data)\n",
    "gender_level_counts"
   ]
  },
  {
   "cell_type": "code",
   "execution_count": 134,
   "metadata": {},
   "outputs": [
    {
     "data": {
      "image/png": "[encoded data removed]",
      "text/plain": [
       "<Figure size 640x480 with 1 Axes>"
      ]
     },
     "metadata": {},
     "output_type": "display_data"
    }
   ],
   "source": [
    "#create a pie chart for each gender to look a levels of cancer per gender\n",
    "male_levels = male_group[\"Level\"].value_counts()\n",
    "pie_graph = male_levels.plot(kind=\"pie\", y=\"Level\", autopct='%1.1f%%', title = \"Male Cancer Level\")\n",
    "pie_graph.set_ylabel(\"Level\")\n",
    "plt.show()"
   ]
  },
  {
   "cell_type": "code",
   "execution_count": 133,
   "metadata": {},
   "outputs": [
    {
     "data": {
      "image/png": "[encoded data removed]",
      "text/plain": [
       "<Figure size 640x480 with 1 Axes>"
      ]
     },
     "metadata": {},
     "output_type": "display_data"
    }
   ],
   "source": [
    "female_levels = female_group[\"Level\"].value_counts()\n",
    "pie_graph = female_levels.plot(kind=\"pie\", y=\"Level\", autopct='%1.1f%%', title=\"Female Cancer Level\")\n",
    "pie_graph.set_ylabel(\"Level\")\n",
    "plt.show()"
   ]
  },
  {
   "cell_type": "markdown",
   "metadata": {},
   "source": [
    "Data Based on Age Groups"
   ]
  },
  {
   "cell_type": "code",
   "execution_count": 168,
   "metadata": {},
   "outputs": [
    {
     "data": {
      "image/png": "[encoded data removed]",
      "text/plain": [
       "<Figure size 640x480 with 1 Axes>"
      ]
     },
     "metadata": {},
     "output_type": "display_data"
    }
   ],
   "source": [
    "#histogram of age \n",
    "plt.hist(clean_cancer[\"Age\"])\n",
    "plt.xlabel(\"Age of Patient\")\n",
    "plt.ylabel(\"Number of Patients\")\n",
    "plt.title(\"Age Distribution\")\n",
    "plt.show()"
   ]
  },
  {
   "cell_type": "code",
   "execution_count": 167,
   "metadata": {},
   "outputs": [
    {
     "data": {
      "image/png": "[encoded data removed]",
      "text/plain": [
       "<Figure size 640x480 with 1 Axes>"
      ]
     },
     "metadata": {},
     "output_type": "display_data"
    }
   ],
   "source": [
    "#scatter plot of age vs smoking level\n",
    "plt.scatter(clean_cancer[\"Age\"], clean_cancer[\"Smoking\"])\n",
    "plt.xlabel(\"Age of Pateint\")\n",
    "plt.ylabel(\"Level of Smoking\")\n",
    "plt.show()"
   ]
  },
  {
   "cell_type": "code",
   "execution_count": 113,
   "metadata": {},
   "outputs": [
    {
     "name": "stdout",
     "output_type": "stream",
     "text": [
      "73\n",
      "14\n",
      "36.0\n"
     ]
    }
   ],
   "source": [
    "#find the high, low, and middle of the age groups\n",
    "print(clean_cancer[\"Age\"].max())\n",
    "print(clean_cancer[\"Age\"].min())\n",
    "print(clean_cancer[\"Age\"].median())"
   ]
  },
  {
   "cell_type": "code",
   "execution_count": 116,
   "metadata": {},
   "outputs": [],
   "source": [
    "#create bins \n",
    "age_bins = [14, 35, 55, 75]\n",
    "age_labels = [\"Young\", \"Middle Age\", \"Old\"]"
   ]
  },
  {
   "cell_type": "code",
   "execution_count": 118,
   "metadata": {},
   "outputs": [
    {
     "data": {
      "text/html": [
       "<div>\n",
       "<style scoped>\n",
       "    .dataframe tbody tr th:only-of-type {\n",
       "        vertical-align: middle;\n",
       "    }\n",
       "\n",
       "    .dataframe tbody tr th {\n",
       "        vertical-align: top;\n",
       "    }\n",
       "\n",
       "    .dataframe thead th {\n",
       "        text-align: right;\n",
       "    }\n",
       "</style>\n",
       "<table border=\"1\" class=\"dataframe\">\n",
       "  <thead>\n",
       "    <tr style=\"text-align: right;\">\n",
       "      <th></th>\n",
       "      <th>Patient Id</th>\n",
       "      <th>Age</th>\n",
       "      <th>Gender</th>\n",
       "      <th>Air Pollution</th>\n",
       "      <th>Alcohol use</th>\n",
       "      <th>Genetic Risk</th>\n",
       "      <th>Obesity</th>\n",
       "      <th>Smoking</th>\n",
       "      <th>Passive Smoker</th>\n",
       "      <th>Level</th>\n",
       "      <th>Age Group</th>\n",
       "    </tr>\n",
       "  </thead>\n",
       "  <tbody>\n",
       "    <tr>\n",
       "      <th>0</th>\n",
       "      <td>P1</td>\n",
       "      <td>33</td>\n",
       "      <td>Male</td>\n",
       "      <td>2</td>\n",
       "      <td>4</td>\n",
       "      <td>3</td>\n",
       "      <td>4</td>\n",
       "      <td>3</td>\n",
       "      <td>2</td>\n",
       "      <td>Low</td>\n",
       "      <td>Young</td>\n",
       "    </tr>\n",
       "    <tr>\n",
       "      <th>1</th>\n",
       "      <td>P10</td>\n",
       "      <td>17</td>\n",
       "      <td>Male</td>\n",
       "      <td>3</td>\n",
       "      <td>1</td>\n",
       "      <td>4</td>\n",
       "      <td>2</td>\n",
       "      <td>2</td>\n",
       "      <td>4</td>\n",
       "      <td>Medium</td>\n",
       "      <td>Young</td>\n",
       "    </tr>\n",
       "    <tr>\n",
       "      <th>2</th>\n",
       "      <td>P100</td>\n",
       "      <td>35</td>\n",
       "      <td>Male</td>\n",
       "      <td>4</td>\n",
       "      <td>5</td>\n",
       "      <td>5</td>\n",
       "      <td>7</td>\n",
       "      <td>2</td>\n",
       "      <td>3</td>\n",
       "      <td>High</td>\n",
       "      <td>Young</td>\n",
       "    </tr>\n",
       "    <tr>\n",
       "      <th>3</th>\n",
       "      <td>P1000</td>\n",
       "      <td>37</td>\n",
       "      <td>Male</td>\n",
       "      <td>7</td>\n",
       "      <td>7</td>\n",
       "      <td>6</td>\n",
       "      <td>7</td>\n",
       "      <td>7</td>\n",
       "      <td>7</td>\n",
       "      <td>High</td>\n",
       "      <td>Middle Age</td>\n",
       "    </tr>\n",
       "    <tr>\n",
       "      <th>4</th>\n",
       "      <td>P101</td>\n",
       "      <td>46</td>\n",
       "      <td>Male</td>\n",
       "      <td>6</td>\n",
       "      <td>8</td>\n",
       "      <td>7</td>\n",
       "      <td>7</td>\n",
       "      <td>8</td>\n",
       "      <td>7</td>\n",
       "      <td>High</td>\n",
       "      <td>Middle Age</td>\n",
       "    </tr>\n",
       "  </tbody>\n",
       "</table>\n",
       "</div>"
      ],
      "text/plain": [
       "  Patient Id  Age Gender  Air Pollution  Alcohol use  Genetic Risk  Obesity  \\\n",
       "0         P1   33   Male              2            4             3        4   \n",
       "1        P10   17   Male              3            1             4        2   \n",
       "2       P100   35   Male              4            5             5        7   \n",
       "3      P1000   37   Male              7            7             6        7   \n",
       "4       P101   46   Male              6            8             7        7   \n",
       "\n",
       "   Smoking  Passive Smoker   Level   Age Group  \n",
       "0        3               2     Low       Young  \n",
       "1        2               4  Medium       Young  \n",
       "2        2               3    High       Young  \n",
       "3        7               7    High  Middle Age  \n",
       "4        8               7    High  Middle Age  "
      ]
     },
     "execution_count": 118,
     "metadata": {},
     "output_type": "execute_result"
    }
   ],
   "source": [
    "#use pd.cut to categorize age based on the bins\n",
    "clean_cancer[\"Age Group\"] = pd.cut(clean_cancer[\"Age\"], \n",
    "                                age_bins, labels=age_labels, include_lowest=True)\n",
    "clean_cancer.head()"
   ]
  },
  {
   "cell_type": "code",
   "execution_count": 119,
   "metadata": {},
   "outputs": [],
   "source": [
    "#bin by level of smoking\n",
    "smoking_bins = [1, 5, 9]\n",
    "smoking_labels = [\"Low Smoking Habit\", \"High Smoking Habit\"]"
   ]
  },
  {
   "cell_type": "code",
   "execution_count": 124,
   "metadata": {},
   "outputs": [],
   "source": [
    "#deleting typo column\n",
    "del clean_cancer[\"Smaoking Habit\"]"
   ]
  },
  {
   "cell_type": "code",
   "execution_count": 125,
   "metadata": {},
   "outputs": [
    {
     "data": {
      "text/html": [
       "<div>\n",
       "<style scoped>\n",
       "    .dataframe tbody tr th:only-of-type {\n",
       "        vertical-align: middle;\n",
       "    }\n",
       "\n",
       "    .dataframe tbody tr th {\n",
       "        vertical-align: top;\n",
       "    }\n",
       "\n",
       "    .dataframe thead th {\n",
       "        text-align: right;\n",
       "    }\n",
       "</style>\n",
       "<table border=\"1\" class=\"dataframe\">\n",
       "  <thead>\n",
       "    <tr style=\"text-align: right;\">\n",
       "      <th></th>\n",
       "      <th>Patient Id</th>\n",
       "      <th>Age</th>\n",
       "      <th>Gender</th>\n",
       "      <th>Air Pollution</th>\n",
       "      <th>Alcohol use</th>\n",
       "      <th>Genetic Risk</th>\n",
       "      <th>Obesity</th>\n",
       "      <th>Smoking</th>\n",
       "      <th>Passive Smoker</th>\n",
       "      <th>Level</th>\n",
       "      <th>Age Group</th>\n",
       "      <th>Alcohol Use</th>\n",
       "      <th>Smoking Habit</th>\n",
       "    </tr>\n",
       "  </thead>\n",
       "  <tbody>\n",
       "    <tr>\n",
       "      <th>0</th>\n",
       "      <td>P1</td>\n",
       "      <td>33</td>\n",
       "      <td>Male</td>\n",
       "      <td>2</td>\n",
       "      <td>4</td>\n",
       "      <td>3</td>\n",
       "      <td>4</td>\n",
       "      <td>3</td>\n",
       "      <td>2</td>\n",
       "      <td>Low</td>\n",
       "      <td>Young</td>\n",
       "      <td>Low Alcohol Use</td>\n",
       "      <td>Low Smoking Habit</td>\n",
       "    </tr>\n",
       "    <tr>\n",
       "      <th>1</th>\n",
       "      <td>P10</td>\n",
       "      <td>17</td>\n",
       "      <td>Male</td>\n",
       "      <td>3</td>\n",
       "      <td>1</td>\n",
       "      <td>4</td>\n",
       "      <td>2</td>\n",
       "      <td>2</td>\n",
       "      <td>4</td>\n",
       "      <td>Medium</td>\n",
       "      <td>Young</td>\n",
       "      <td>Low Alcohol Use</td>\n",
       "      <td>Low Smoking Habit</td>\n",
       "    </tr>\n",
       "    <tr>\n",
       "      <th>2</th>\n",
       "      <td>P100</td>\n",
       "      <td>35</td>\n",
       "      <td>Male</td>\n",
       "      <td>4</td>\n",
       "      <td>5</td>\n",
       "      <td>5</td>\n",
       "      <td>7</td>\n",
       "      <td>2</td>\n",
       "      <td>3</td>\n",
       "      <td>High</td>\n",
       "      <td>Young</td>\n",
       "      <td>Low Alcohol Use</td>\n",
       "      <td>Low Smoking Habit</td>\n",
       "    </tr>\n",
       "    <tr>\n",
       "      <th>3</th>\n",
       "      <td>P1000</td>\n",
       "      <td>37</td>\n",
       "      <td>Male</td>\n",
       "      <td>7</td>\n",
       "      <td>7</td>\n",
       "      <td>6</td>\n",
       "      <td>7</td>\n",
       "      <td>7</td>\n",
       "      <td>7</td>\n",
       "      <td>High</td>\n",
       "      <td>Middle Age</td>\n",
       "      <td>High Alcohol Use</td>\n",
       "      <td>High Smoking Habit</td>\n",
       "    </tr>\n",
       "    <tr>\n",
       "      <th>4</th>\n",
       "      <td>P101</td>\n",
       "      <td>46</td>\n",
       "      <td>Male</td>\n",
       "      <td>6</td>\n",
       "      <td>8</td>\n",
       "      <td>7</td>\n",
       "      <td>7</td>\n",
       "      <td>8</td>\n",
       "      <td>7</td>\n",
       "      <td>High</td>\n",
       "      <td>Middle Age</td>\n",
       "      <td>High Alcohol Use</td>\n",
       "      <td>High Smoking Habit</td>\n",
       "    </tr>\n",
       "  </tbody>\n",
       "</table>\n",
       "</div>"
      ],
      "text/plain": [
       "  Patient Id  Age Gender  Air Pollution  Alcohol use  Genetic Risk  Obesity  \\\n",
       "0         P1   33   Male              2            4             3        4   \n",
       "1        P10   17   Male              3            1             4        2   \n",
       "2       P100   35   Male              4            5             5        7   \n",
       "3      P1000   37   Male              7            7             6        7   \n",
       "4       P101   46   Male              6            8             7        7   \n",
       "\n",
       "   Smoking  Passive Smoker   Level   Age Group       Alcohol Use  \\\n",
       "0        3               2     Low       Young   Low Alcohol Use   \n",
       "1        2               4  Medium       Young   Low Alcohol Use   \n",
       "2        2               3    High       Young   Low Alcohol Use   \n",
       "3        7               7    High  Middle Age  High Alcohol Use   \n",
       "4        8               7    High  Middle Age  High Alcohol Use   \n",
       "\n",
       "        Smoking Habit  \n",
       "0   Low Smoking Habit  \n",
       "1   Low Smoking Habit  \n",
       "2   Low Smoking Habit  \n",
       "3  High Smoking Habit  \n",
       "4  High Smoking Habit  "
      ]
     },
     "execution_count": 125,
     "metadata": {},
     "output_type": "execute_result"
    }
   ],
   "source": [
    "clean_cancer[\"Smoking Habit\"] = pd.cut(clean_cancer[\"Smoking\"], smoking_bins, \n",
    "                                        labels=smoking_labels, include_lowest=True)\n",
    "clean_cancer.head()"
   ]
  },
  {
   "cell_type": "code",
   "execution_count": 126,
   "metadata": {},
   "outputs": [
    {
     "data": {
      "text/html": [
       "<div>\n",
       "<style scoped>\n",
       "    .dataframe tbody tr th:only-of-type {\n",
       "        vertical-align: middle;\n",
       "    }\n",
       "\n",
       "    .dataframe tbody tr th {\n",
       "        vertical-align: top;\n",
       "    }\n",
       "\n",
       "    .dataframe thead th {\n",
       "        text-align: right;\n",
       "    }\n",
       "</style>\n",
       "<table border=\"1\" class=\"dataframe\">\n",
       "  <thead>\n",
       "    <tr style=\"text-align: right;\">\n",
       "      <th></th>\n",
       "      <th>Patient Id</th>\n",
       "      <th>Age</th>\n",
       "      <th>Gender</th>\n",
       "      <th>Air Pollution</th>\n",
       "      <th>Alcohol use</th>\n",
       "      <th>Genetic Risk</th>\n",
       "      <th>Obesity</th>\n",
       "      <th>Smoking</th>\n",
       "      <th>Passive Smoker</th>\n",
       "      <th>Level</th>\n",
       "      <th>Age Group</th>\n",
       "      <th>Alcohol Use</th>\n",
       "      <th>Smoking Habit</th>\n",
       "    </tr>\n",
       "  </thead>\n",
       "  <tbody>\n",
       "    <tr>\n",
       "      <th>0</th>\n",
       "      <td>P1</td>\n",
       "      <td>33</td>\n",
       "      <td>Male</td>\n",
       "      <td>2</td>\n",
       "      <td>4</td>\n",
       "      <td>3</td>\n",
       "      <td>4</td>\n",
       "      <td>3</td>\n",
       "      <td>2</td>\n",
       "      <td>Low</td>\n",
       "      <td>Young</td>\n",
       "      <td>Low Alcohol Use</td>\n",
       "      <td>Low Smoking Habit</td>\n",
       "    </tr>\n",
       "    <tr>\n",
       "      <th>1</th>\n",
       "      <td>P10</td>\n",
       "      <td>17</td>\n",
       "      <td>Male</td>\n",
       "      <td>3</td>\n",
       "      <td>1</td>\n",
       "      <td>4</td>\n",
       "      <td>2</td>\n",
       "      <td>2</td>\n",
       "      <td>4</td>\n",
       "      <td>Medium</td>\n",
       "      <td>Young</td>\n",
       "      <td>Low Alcohol Use</td>\n",
       "      <td>Low Smoking Habit</td>\n",
       "    </tr>\n",
       "    <tr>\n",
       "      <th>2</th>\n",
       "      <td>P100</td>\n",
       "      <td>35</td>\n",
       "      <td>Male</td>\n",
       "      <td>4</td>\n",
       "      <td>5</td>\n",
       "      <td>5</td>\n",
       "      <td>7</td>\n",
       "      <td>2</td>\n",
       "      <td>3</td>\n",
       "      <td>High</td>\n",
       "      <td>Young</td>\n",
       "      <td>Low Alcohol Use</td>\n",
       "      <td>Low Smoking Habit</td>\n",
       "    </tr>\n",
       "    <tr>\n",
       "      <th>3</th>\n",
       "      <td>P1000</td>\n",
       "      <td>37</td>\n",
       "      <td>Male</td>\n",
       "      <td>7</td>\n",
       "      <td>7</td>\n",
       "      <td>6</td>\n",
       "      <td>7</td>\n",
       "      <td>7</td>\n",
       "      <td>7</td>\n",
       "      <td>High</td>\n",
       "      <td>Middle Age</td>\n",
       "      <td>High Alcohol Use</td>\n",
       "      <td>High Smoking Habit</td>\n",
       "    </tr>\n",
       "    <tr>\n",
       "      <th>4</th>\n",
       "      <td>P101</td>\n",
       "      <td>46</td>\n",
       "      <td>Male</td>\n",
       "      <td>6</td>\n",
       "      <td>8</td>\n",
       "      <td>7</td>\n",
       "      <td>7</td>\n",
       "      <td>8</td>\n",
       "      <td>7</td>\n",
       "      <td>High</td>\n",
       "      <td>Middle Age</td>\n",
       "      <td>High Alcohol Use</td>\n",
       "      <td>High Smoking Habit</td>\n",
       "    </tr>\n",
       "  </tbody>\n",
       "</table>\n",
       "</div>"
      ],
      "text/plain": [
       "  Patient Id  Age Gender  Air Pollution  Alcohol use  Genetic Risk  Obesity  \\\n",
       "0         P1   33   Male              2            4             3        4   \n",
       "1        P10   17   Male              3            1             4        2   \n",
       "2       P100   35   Male              4            5             5        7   \n",
       "3      P1000   37   Male              7            7             6        7   \n",
       "4       P101   46   Male              6            8             7        7   \n",
       "\n",
       "   Smoking  Passive Smoker   Level   Age Group       Alcohol Use  \\\n",
       "0        3               2     Low       Young   Low Alcohol Use   \n",
       "1        2               4  Medium       Young   Low Alcohol Use   \n",
       "2        2               3    High       Young   Low Alcohol Use   \n",
       "3        7               7    High  Middle Age  High Alcohol Use   \n",
       "4        8               7    High  Middle Age  High Alcohol Use   \n",
       "\n",
       "        Smoking Habit  \n",
       "0   Low Smoking Habit  \n",
       "1   Low Smoking Habit  \n",
       "2   Low Smoking Habit  \n",
       "3  High Smoking Habit  \n",
       "4  High Smoking Habit  "
      ]
     },
     "execution_count": 126,
     "metadata": {},
     "output_type": "execute_result"
    }
   ],
   "source": [
    "#alcohol use bins\n",
    "alcohol_bins = [1, 5, 9]\n",
    "alcohol_labels = [\"Low Alcohol Use\", \"High Alcohol Use\"]\n",
    "clean_cancer[\"Alcohol Use\"] = pd.cut(clean_cancer[\"Alcohol use\"], alcohol_bins, \n",
    "                                        labels=alcohol_labels, include_lowest=True)\n",
    "clean_cancer.head()"
   ]
  },
  {
   "cell_type": "code",
   "execution_count": 127,
   "metadata": {},
   "outputs": [
    {
     "data": {
      "text/html": [
       "<div>\n",
       "<style scoped>\n",
       "    .dataframe tbody tr th:only-of-type {\n",
       "        vertical-align: middle;\n",
       "    }\n",
       "\n",
       "    .dataframe tbody tr th {\n",
       "        vertical-align: top;\n",
       "    }\n",
       "\n",
       "    .dataframe thead th {\n",
       "        text-align: right;\n",
       "    }\n",
       "</style>\n",
       "<table border=\"1\" class=\"dataframe\">\n",
       "  <thead>\n",
       "    <tr style=\"text-align: right;\">\n",
       "      <th></th>\n",
       "      <th>Patient Id</th>\n",
       "      <th>Age</th>\n",
       "      <th>Gender</th>\n",
       "      <th>Air Pollution</th>\n",
       "      <th>Alcohol use</th>\n",
       "      <th>Genetic Risk</th>\n",
       "      <th>Obesity</th>\n",
       "      <th>Smoking</th>\n",
       "      <th>Passive Smoker</th>\n",
       "      <th>Level</th>\n",
       "      <th>Age Group</th>\n",
       "      <th>Alcohol Use</th>\n",
       "      <th>Smoking Habit</th>\n",
       "      <th>Genetic Risk Level</th>\n",
       "    </tr>\n",
       "  </thead>\n",
       "  <tbody>\n",
       "    <tr>\n",
       "      <th>0</th>\n",
       "      <td>P1</td>\n",
       "      <td>33</td>\n",
       "      <td>Male</td>\n",
       "      <td>2</td>\n",
       "      <td>4</td>\n",
       "      <td>3</td>\n",
       "      <td>4</td>\n",
       "      <td>3</td>\n",
       "      <td>2</td>\n",
       "      <td>Low</td>\n",
       "      <td>Young</td>\n",
       "      <td>Low Alcohol Use</td>\n",
       "      <td>Low Smoking Habit</td>\n",
       "      <td>Low Genetic Risk</td>\n",
       "    </tr>\n",
       "    <tr>\n",
       "      <th>1</th>\n",
       "      <td>P10</td>\n",
       "      <td>17</td>\n",
       "      <td>Male</td>\n",
       "      <td>3</td>\n",
       "      <td>1</td>\n",
       "      <td>4</td>\n",
       "      <td>2</td>\n",
       "      <td>2</td>\n",
       "      <td>4</td>\n",
       "      <td>Medium</td>\n",
       "      <td>Young</td>\n",
       "      <td>Low Alcohol Use</td>\n",
       "      <td>Low Smoking Habit</td>\n",
       "      <td>Low Genetic Risk</td>\n",
       "    </tr>\n",
       "    <tr>\n",
       "      <th>2</th>\n",
       "      <td>P100</td>\n",
       "      <td>35</td>\n",
       "      <td>Male</td>\n",
       "      <td>4</td>\n",
       "      <td>5</td>\n",
       "      <td>5</td>\n",
       "      <td>7</td>\n",
       "      <td>2</td>\n",
       "      <td>3</td>\n",
       "      <td>High</td>\n",
       "      <td>Young</td>\n",
       "      <td>Low Alcohol Use</td>\n",
       "      <td>Low Smoking Habit</td>\n",
       "      <td>Low Genetic Risk</td>\n",
       "    </tr>\n",
       "    <tr>\n",
       "      <th>3</th>\n",
       "      <td>P1000</td>\n",
       "      <td>37</td>\n",
       "      <td>Male</td>\n",
       "      <td>7</td>\n",
       "      <td>7</td>\n",
       "      <td>6</td>\n",
       "      <td>7</td>\n",
       "      <td>7</td>\n",
       "      <td>7</td>\n",
       "      <td>High</td>\n",
       "      <td>Middle Age</td>\n",
       "      <td>High Alcohol Use</td>\n",
       "      <td>High Smoking Habit</td>\n",
       "      <td>High Genetic Risk</td>\n",
       "    </tr>\n",
       "    <tr>\n",
       "      <th>4</th>\n",
       "      <td>P101</td>\n",
       "      <td>46</td>\n",
       "      <td>Male</td>\n",
       "      <td>6</td>\n",
       "      <td>8</td>\n",
       "      <td>7</td>\n",
       "      <td>7</td>\n",
       "      <td>8</td>\n",
       "      <td>7</td>\n",
       "      <td>High</td>\n",
       "      <td>Middle Age</td>\n",
       "      <td>High Alcohol Use</td>\n",
       "      <td>High Smoking Habit</td>\n",
       "      <td>High Genetic Risk</td>\n",
       "    </tr>\n",
       "  </tbody>\n",
       "</table>\n",
       "</div>"
      ],
      "text/plain": [
       "  Patient Id  Age Gender  Air Pollution  Alcohol use  Genetic Risk  Obesity  \\\n",
       "0         P1   33   Male              2            4             3        4   \n",
       "1        P10   17   Male              3            1             4        2   \n",
       "2       P100   35   Male              4            5             5        7   \n",
       "3      P1000   37   Male              7            7             6        7   \n",
       "4       P101   46   Male              6            8             7        7   \n",
       "\n",
       "   Smoking  Passive Smoker   Level   Age Group       Alcohol Use  \\\n",
       "0        3               2     Low       Young   Low Alcohol Use   \n",
       "1        2               4  Medium       Young   Low Alcohol Use   \n",
       "2        2               3    High       Young   Low Alcohol Use   \n",
       "3        7               7    High  Middle Age  High Alcohol Use   \n",
       "4        8               7    High  Middle Age  High Alcohol Use   \n",
       "\n",
       "        Smoking Habit Genetic Risk Level  \n",
       "0   Low Smoking Habit   Low Genetic Risk  \n",
       "1   Low Smoking Habit   Low Genetic Risk  \n",
       "2   Low Smoking Habit   Low Genetic Risk  \n",
       "3  High Smoking Habit  High Genetic Risk  \n",
       "4  High Smoking Habit  High Genetic Risk  "
      ]
     },
     "execution_count": 127,
     "metadata": {},
     "output_type": "execute_result"
    }
   ],
   "source": [
    "#genetic risk bins\n",
    "genetic_bins = [1, 5, 9]\n",
    "genetic_labels = [\"Low Genetic Risk\", \"High Genetic Risk\"]\n",
    "clean_cancer[\"Genetic Risk Level\"] = pd.cut(clean_cancer[\"Genetic Risk\"], genetic_bins, \n",
    "                                        labels=genetic_labels, include_lowest=True)\n",
    "clean_cancer.head()"
   ]
  },
  {
   "cell_type": "code",
   "execution_count": 128,
   "metadata": {},
   "outputs": [
    {
     "data": {
      "text/html": [
       "<div>\n",
       "<style scoped>\n",
       "    .dataframe tbody tr th:only-of-type {\n",
       "        vertical-align: middle;\n",
       "    }\n",
       "\n",
       "    .dataframe tbody tr th {\n",
       "        vertical-align: top;\n",
       "    }\n",
       "\n",
       "    .dataframe thead th {\n",
       "        text-align: right;\n",
       "    }\n",
       "</style>\n",
       "<table border=\"1\" class=\"dataframe\">\n",
       "  <thead>\n",
       "    <tr style=\"text-align: right;\">\n",
       "      <th></th>\n",
       "      <th>Patient Id</th>\n",
       "      <th>Age</th>\n",
       "      <th>Gender</th>\n",
       "      <th>Air Pollution</th>\n",
       "      <th>Alcohol use</th>\n",
       "      <th>Genetic Risk</th>\n",
       "      <th>Obesity</th>\n",
       "      <th>Smoking</th>\n",
       "      <th>Passive Smoker</th>\n",
       "      <th>Level</th>\n",
       "      <th>Age Group</th>\n",
       "      <th>Alcohol Use</th>\n",
       "      <th>Smoking Habit</th>\n",
       "      <th>Genetic Risk Level</th>\n",
       "      <th>Air Pollution Level</th>\n",
       "    </tr>\n",
       "  </thead>\n",
       "  <tbody>\n",
       "    <tr>\n",
       "      <th>0</th>\n",
       "      <td>P1</td>\n",
       "      <td>33</td>\n",
       "      <td>Male</td>\n",
       "      <td>2</td>\n",
       "      <td>4</td>\n",
       "      <td>3</td>\n",
       "      <td>4</td>\n",
       "      <td>3</td>\n",
       "      <td>2</td>\n",
       "      <td>Low</td>\n",
       "      <td>Young</td>\n",
       "      <td>Low Alcohol Use</td>\n",
       "      <td>Low Smoking Habit</td>\n",
       "      <td>Low Genetic Risk</td>\n",
       "      <td>Low Air Pollution</td>\n",
       "    </tr>\n",
       "    <tr>\n",
       "      <th>1</th>\n",
       "      <td>P10</td>\n",
       "      <td>17</td>\n",
       "      <td>Male</td>\n",
       "      <td>3</td>\n",
       "      <td>1</td>\n",
       "      <td>4</td>\n",
       "      <td>2</td>\n",
       "      <td>2</td>\n",
       "      <td>4</td>\n",
       "      <td>Medium</td>\n",
       "      <td>Young</td>\n",
       "      <td>Low Alcohol Use</td>\n",
       "      <td>Low Smoking Habit</td>\n",
       "      <td>Low Genetic Risk</td>\n",
       "      <td>Low Air Pollution</td>\n",
       "    </tr>\n",
       "    <tr>\n",
       "      <th>2</th>\n",
       "      <td>P100</td>\n",
       "      <td>35</td>\n",
       "      <td>Male</td>\n",
       "      <td>4</td>\n",
       "      <td>5</td>\n",
       "      <td>5</td>\n",
       "      <td>7</td>\n",
       "      <td>2</td>\n",
       "      <td>3</td>\n",
       "      <td>High</td>\n",
       "      <td>Young</td>\n",
       "      <td>Low Alcohol Use</td>\n",
       "      <td>Low Smoking Habit</td>\n",
       "      <td>Low Genetic Risk</td>\n",
       "      <td>Low Air Pollution</td>\n",
       "    </tr>\n",
       "    <tr>\n",
       "      <th>3</th>\n",
       "      <td>P1000</td>\n",
       "      <td>37</td>\n",
       "      <td>Male</td>\n",
       "      <td>7</td>\n",
       "      <td>7</td>\n",
       "      <td>6</td>\n",
       "      <td>7</td>\n",
       "      <td>7</td>\n",
       "      <td>7</td>\n",
       "      <td>High</td>\n",
       "      <td>Middle Age</td>\n",
       "      <td>High Alcohol Use</td>\n",
       "      <td>High Smoking Habit</td>\n",
       "      <td>High Genetic Risk</td>\n",
       "      <td>High Air Pollution</td>\n",
       "    </tr>\n",
       "    <tr>\n",
       "      <th>4</th>\n",
       "      <td>P101</td>\n",
       "      <td>46</td>\n",
       "      <td>Male</td>\n",
       "      <td>6</td>\n",
       "      <td>8</td>\n",
       "      <td>7</td>\n",
       "      <td>7</td>\n",
       "      <td>8</td>\n",
       "      <td>7</td>\n",
       "      <td>High</td>\n",
       "      <td>Middle Age</td>\n",
       "      <td>High Alcohol Use</td>\n",
       "      <td>High Smoking Habit</td>\n",
       "      <td>High Genetic Risk</td>\n",
       "      <td>High Air Pollution</td>\n",
       "    </tr>\n",
       "  </tbody>\n",
       "</table>\n",
       "</div>"
      ],
      "text/plain": [
       "  Patient Id  Age Gender  Air Pollution  Alcohol use  Genetic Risk  Obesity  \\\n",
       "0         P1   33   Male              2            4             3        4   \n",
       "1        P10   17   Male              3            1             4        2   \n",
       "2       P100   35   Male              4            5             5        7   \n",
       "3      P1000   37   Male              7            7             6        7   \n",
       "4       P101   46   Male              6            8             7        7   \n",
       "\n",
       "   Smoking  Passive Smoker   Level   Age Group       Alcohol Use  \\\n",
       "0        3               2     Low       Young   Low Alcohol Use   \n",
       "1        2               4  Medium       Young   Low Alcohol Use   \n",
       "2        2               3    High       Young   Low Alcohol Use   \n",
       "3        7               7    High  Middle Age  High Alcohol Use   \n",
       "4        8               7    High  Middle Age  High Alcohol Use   \n",
       "\n",
       "        Smoking Habit Genetic Risk Level Air Pollution Level  \n",
       "0   Low Smoking Habit   Low Genetic Risk   Low Air Pollution  \n",
       "1   Low Smoking Habit   Low Genetic Risk   Low Air Pollution  \n",
       "2   Low Smoking Habit   Low Genetic Risk   Low Air Pollution  \n",
       "3  High Smoking Habit  High Genetic Risk  High Air Pollution  \n",
       "4  High Smoking Habit  High Genetic Risk  High Air Pollution  "
      ]
     },
     "execution_count": 128,
     "metadata": {},
     "output_type": "execute_result"
    }
   ],
   "source": [
    "#air pollution bins\n",
    "air_bins = [1, 5, 9]\n",
    "air_labels = [\"Low Air Pollution\", \"High Air Pollution\"]\n",
    "clean_cancer[\"Air Pollution Level\"] = pd.cut(clean_cancer[\"Air Pollution\"], air_bins, \n",
    "                                        labels=air_labels, include_lowest=True)\n",
    "clean_cancer.head()"
   ]
  },
  {
   "cell_type": "code",
   "execution_count": 129,
   "metadata": {},
   "outputs": [
    {
     "data": {
      "text/html": [
       "<div>\n",
       "<style scoped>\n",
       "    .dataframe tbody tr th:only-of-type {\n",
       "        vertical-align: middle;\n",
       "    }\n",
       "\n",
       "    .dataframe tbody tr th {\n",
       "        vertical-align: top;\n",
       "    }\n",
       "\n",
       "    .dataframe thead th {\n",
       "        text-align: right;\n",
       "    }\n",
       "</style>\n",
       "<table border=\"1\" class=\"dataframe\">\n",
       "  <thead>\n",
       "    <tr style=\"text-align: right;\">\n",
       "      <th></th>\n",
       "      <th>Patient Id</th>\n",
       "      <th>Age</th>\n",
       "      <th>Gender</th>\n",
       "      <th>Air Pollution</th>\n",
       "      <th>Alcohol use</th>\n",
       "      <th>Genetic Risk</th>\n",
       "      <th>Obesity</th>\n",
       "      <th>Smoking</th>\n",
       "      <th>Passive Smoker</th>\n",
       "      <th>Level</th>\n",
       "      <th>Age Group</th>\n",
       "      <th>Alcohol Use</th>\n",
       "      <th>Smoking Habit</th>\n",
       "      <th>Genetic Risk Level</th>\n",
       "      <th>Air Pollution Level</th>\n",
       "      <th>Obesity Level</th>\n",
       "    </tr>\n",
       "  </thead>\n",
       "  <tbody>\n",
       "    <tr>\n",
       "      <th>0</th>\n",
       "      <td>P1</td>\n",
       "      <td>33</td>\n",
       "      <td>Male</td>\n",
       "      <td>2</td>\n",
       "      <td>4</td>\n",
       "      <td>3</td>\n",
       "      <td>4</td>\n",
       "      <td>3</td>\n",
       "      <td>2</td>\n",
       "      <td>Low</td>\n",
       "      <td>Young</td>\n",
       "      <td>Low Alcohol Use</td>\n",
       "      <td>Low Smoking Habit</td>\n",
       "      <td>Low Genetic Risk</td>\n",
       "      <td>Low Air Pollution</td>\n",
       "      <td>Low Obesity Level</td>\n",
       "    </tr>\n",
       "    <tr>\n",
       "      <th>1</th>\n",
       "      <td>P10</td>\n",
       "      <td>17</td>\n",
       "      <td>Male</td>\n",
       "      <td>3</td>\n",
       "      <td>1</td>\n",
       "      <td>4</td>\n",
       "      <td>2</td>\n",
       "      <td>2</td>\n",
       "      <td>4</td>\n",
       "      <td>Medium</td>\n",
       "      <td>Young</td>\n",
       "      <td>Low Alcohol Use</td>\n",
       "      <td>Low Smoking Habit</td>\n",
       "      <td>Low Genetic Risk</td>\n",
       "      <td>Low Air Pollution</td>\n",
       "      <td>Low Obesity Level</td>\n",
       "    </tr>\n",
       "    <tr>\n",
       "      <th>2</th>\n",
       "      <td>P100</td>\n",
       "      <td>35</td>\n",
       "      <td>Male</td>\n",
       "      <td>4</td>\n",
       "      <td>5</td>\n",
       "      <td>5</td>\n",
       "      <td>7</td>\n",
       "      <td>2</td>\n",
       "      <td>3</td>\n",
       "      <td>High</td>\n",
       "      <td>Young</td>\n",
       "      <td>Low Alcohol Use</td>\n",
       "      <td>Low Smoking Habit</td>\n",
       "      <td>Low Genetic Risk</td>\n",
       "      <td>Low Air Pollution</td>\n",
       "      <td>High Obesity Level</td>\n",
       "    </tr>\n",
       "    <tr>\n",
       "      <th>3</th>\n",
       "      <td>P1000</td>\n",
       "      <td>37</td>\n",
       "      <td>Male</td>\n",
       "      <td>7</td>\n",
       "      <td>7</td>\n",
       "      <td>6</td>\n",
       "      <td>7</td>\n",
       "      <td>7</td>\n",
       "      <td>7</td>\n",
       "      <td>High</td>\n",
       "      <td>Middle Age</td>\n",
       "      <td>High Alcohol Use</td>\n",
       "      <td>High Smoking Habit</td>\n",
       "      <td>High Genetic Risk</td>\n",
       "      <td>High Air Pollution</td>\n",
       "      <td>High Obesity Level</td>\n",
       "    </tr>\n",
       "    <tr>\n",
       "      <th>4</th>\n",
       "      <td>P101</td>\n",
       "      <td>46</td>\n",
       "      <td>Male</td>\n",
       "      <td>6</td>\n",
       "      <td>8</td>\n",
       "      <td>7</td>\n",
       "      <td>7</td>\n",
       "      <td>8</td>\n",
       "      <td>7</td>\n",
       "      <td>High</td>\n",
       "      <td>Middle Age</td>\n",
       "      <td>High Alcohol Use</td>\n",
       "      <td>High Smoking Habit</td>\n",
       "      <td>High Genetic Risk</td>\n",
       "      <td>High Air Pollution</td>\n",
       "      <td>High Obesity Level</td>\n",
       "    </tr>\n",
       "  </tbody>\n",
       "</table>\n",
       "</div>"
      ],
      "text/plain": [
       "  Patient Id  Age Gender  Air Pollution  Alcohol use  Genetic Risk  Obesity  \\\n",
       "0         P1   33   Male              2            4             3        4   \n",
       "1        P10   17   Male              3            1             4        2   \n",
       "2       P100   35   Male              4            5             5        7   \n",
       "3      P1000   37   Male              7            7             6        7   \n",
       "4       P101   46   Male              6            8             7        7   \n",
       "\n",
       "   Smoking  Passive Smoker   Level   Age Group       Alcohol Use  \\\n",
       "0        3               2     Low       Young   Low Alcohol Use   \n",
       "1        2               4  Medium       Young   Low Alcohol Use   \n",
       "2        2               3    High       Young   Low Alcohol Use   \n",
       "3        7               7    High  Middle Age  High Alcohol Use   \n",
       "4        8               7    High  Middle Age  High Alcohol Use   \n",
       "\n",
       "        Smoking Habit Genetic Risk Level Air Pollution Level  \\\n",
       "0   Low Smoking Habit   Low Genetic Risk   Low Air Pollution   \n",
       "1   Low Smoking Habit   Low Genetic Risk   Low Air Pollution   \n",
       "2   Low Smoking Habit   Low Genetic Risk   Low Air Pollution   \n",
       "3  High Smoking Habit  High Genetic Risk  High Air Pollution   \n",
       "4  High Smoking Habit  High Genetic Risk  High Air Pollution   \n",
       "\n",
       "        Obesity Level  \n",
       "0   Low Obesity Level  \n",
       "1   Low Obesity Level  \n",
       "2  High Obesity Level  \n",
       "3  High Obesity Level  \n",
       "4  High Obesity Level  "
      ]
     },
     "execution_count": 129,
     "metadata": {},
     "output_type": "execute_result"
    }
   ],
   "source": [
    "#obesity bins\n",
    "obesity_bins = [1, 5, 9]\n",
    "obesity_labels = [\"Low Obesity Level\", \"High Obesity Level\"]\n",
    "clean_cancer[\"Obesity Level\"] = pd.cut(clean_cancer[\"Obesity\"], obesity_bins, \n",
    "                                        labels=obesity_labels, include_lowest=True)\n",
    "clean_cancer.head()"
   ]
  },
  {
   "cell_type": "code",
   "execution_count": 142,
   "metadata": {},
   "outputs": [],
   "source": [
    "#create Age Group DFs\n",
    "young_group = clean_cancer.loc[clean_cancer[\"Age Group\"] == \"Young\"]\n",
    "middle_group = clean_cancer.loc[clean_cancer[\"Age Group\"]== \"Middle Age\"]\n",
    "old_group = clean_cancer.loc[clean_cancer[\"Age Group\"] == \"Old\"]"
   ]
  },
  {
   "cell_type": "code",
   "execution_count": 153,
   "metadata": {},
   "outputs": [
    {
     "data": {
      "text/html": [
       "<div>\n",
       "<style scoped>\n",
       "    .dataframe tbody tr th:only-of-type {\n",
       "        vertical-align: middle;\n",
       "    }\n",
       "\n",
       "    .dataframe tbody tr th {\n",
       "        vertical-align: top;\n",
       "    }\n",
       "\n",
       "    .dataframe thead th {\n",
       "        text-align: right;\n",
       "    }\n",
       "</style>\n",
       "<table border=\"1\" class=\"dataframe\">\n",
       "  <thead>\n",
       "    <tr style=\"text-align: right;\">\n",
       "      <th></th>\n",
       "      <th>Young</th>\n",
       "      <th>Middle</th>\n",
       "      <th>Old</th>\n",
       "    </tr>\n",
       "    <tr>\n",
       "      <th>Smoking Habit</th>\n",
       "      <th></th>\n",
       "      <th></th>\n",
       "      <th></th>\n",
       "    </tr>\n",
       "  </thead>\n",
       "  <tbody>\n",
       "    <tr>\n",
       "      <th>Low Smoking Habit</th>\n",
       "      <td>353</td>\n",
       "      <td>261</td>\n",
       "      <td>30</td>\n",
       "    </tr>\n",
       "    <tr>\n",
       "      <th>High Smoking Habit</th>\n",
       "      <td>144</td>\n",
       "      <td>171</td>\n",
       "      <td>41</td>\n",
       "    </tr>\n",
       "  </tbody>\n",
       "</table>\n",
       "</div>"
      ],
      "text/plain": [
       "                    Young  Middle  Old\n",
       "Smoking Habit                         \n",
       "Low Smoking Habit     353     261   30\n",
       "High Smoking Habit    144     171   41"
      ]
     },
     "execution_count": 153,
     "metadata": {},
     "output_type": "execute_result"
    }
   ],
   "source": [
    "young_smoke = young_group[\"Smoking Habit\"].value_counts()\n",
    "middle_smoke = middle_group[\"Smoking Habit\"].value_counts()\n",
    "old_smoke = old_group[\"Smoking Habit\"].value_counts()\n",
    "\n",
    "data = {\n",
    "    'Young': young_smoke,\n",
    "    'Middle': middle_smoke,\n",
    "    'Old': old_smoke\n",
    "}\n",
    "\n",
    "smoking_habit_counts = pd.DataFrame(data)\n",
    "smoking_habit_counts"
   ]
  },
  {
   "cell_type": "code",
   "execution_count": 192,
   "metadata": {},
   "outputs": [
    {
     "data": {
      "text/html": [
       "<div>\n",
       "<style scoped>\n",
       "    .dataframe tbody tr th:only-of-type {\n",
       "        vertical-align: middle;\n",
       "    }\n",
       "\n",
       "    .dataframe tbody tr th {\n",
       "        vertical-align: top;\n",
       "    }\n",
       "\n",
       "    .dataframe thead th {\n",
       "        text-align: right;\n",
       "    }\n",
       "</style>\n",
       "<table border=\"1\" class=\"dataframe\">\n",
       "  <thead>\n",
       "    <tr style=\"text-align: right;\">\n",
       "      <th></th>\n",
       "      <th>Young</th>\n",
       "      <th>Middle</th>\n",
       "      <th>Old</th>\n",
       "    </tr>\n",
       "    <tr>\n",
       "      <th>Air Pollution Level</th>\n",
       "      <th></th>\n",
       "      <th></th>\n",
       "      <th></th>\n",
       "    </tr>\n",
       "  </thead>\n",
       "  <tbody>\n",
       "    <tr>\n",
       "      <th>Low Air Pollution</th>\n",
       "      <td>344</td>\n",
       "      <td>251</td>\n",
       "      <td>30</td>\n",
       "    </tr>\n",
       "    <tr>\n",
       "      <th>High Air Pollution</th>\n",
       "      <td>153</td>\n",
       "      <td>181</td>\n",
       "      <td>41</td>\n",
       "    </tr>\n",
       "  </tbody>\n",
       "</table>\n",
       "</div>"
      ],
      "text/plain": [
       "                     Young  Middle  Old\n",
       "Air Pollution Level                    \n",
       "Low Air Pollution      344     251   30\n",
       "High Air Pollution     153     181   41"
      ]
     },
     "execution_count": 192,
     "metadata": {},
     "output_type": "execute_result"
    }
   ],
   "source": [
    "#make a data frame for air pollution\n",
    "young_air = young_group[\"Air Pollution Level\"].value_counts()\n",
    "middle_air = middle_group[\"Air Pollution Level\"].value_counts()\n",
    "old_air = old_group[\"Air Pollution Level\"].value_counts()\n",
    "\n",
    "air_data = {\n",
    "    'Young': young_air,\n",
    "    'Middle': middle_air,\n",
    "    'Old': old_air\n",
    "}\n",
    "\n",
    "air_age_counts = pd.DataFrame(air_data)\n",
    "air_age_counts"
   ]
  },
  {
   "cell_type": "code",
   "execution_count": 191,
   "metadata": {},
   "outputs": [
    {
     "data": {
      "text/html": [
       "<div>\n",
       "<style scoped>\n",
       "    .dataframe tbody tr th:only-of-type {\n",
       "        vertical-align: middle;\n",
       "    }\n",
       "\n",
       "    .dataframe tbody tr th {\n",
       "        vertical-align: top;\n",
       "    }\n",
       "\n",
       "    .dataframe thead th {\n",
       "        text-align: right;\n",
       "    }\n",
       "</style>\n",
       "<table border=\"1\" class=\"dataframe\">\n",
       "  <thead>\n",
       "    <tr style=\"text-align: right;\">\n",
       "      <th></th>\n",
       "      <th>Young</th>\n",
       "      <th>Middle</th>\n",
       "      <th>Old</th>\n",
       "    </tr>\n",
       "    <tr>\n",
       "      <th>Obesity Level</th>\n",
       "      <th></th>\n",
       "      <th></th>\n",
       "      <th></th>\n",
       "    </tr>\n",
       "  </thead>\n",
       "  <tbody>\n",
       "    <tr>\n",
       "      <th>Low Obesity Level</th>\n",
       "      <td>315</td>\n",
       "      <td>248</td>\n",
       "      <td>51</td>\n",
       "    </tr>\n",
       "    <tr>\n",
       "      <th>High Obesity Level</th>\n",
       "      <td>182</td>\n",
       "      <td>184</td>\n",
       "      <td>20</td>\n",
       "    </tr>\n",
       "  </tbody>\n",
       "</table>\n",
       "</div>"
      ],
      "text/plain": [
       "                    Young  Middle  Old\n",
       "Obesity Level                         \n",
       "Low Obesity Level     315     248   51\n",
       "High Obesity Level    182     184   20"
      ]
     },
     "execution_count": 191,
     "metadata": {},
     "output_type": "execute_result"
    }
   ],
   "source": [
    "#make a data frame for obesity\n",
    "young_obesity = young_group[\"Obesity Level\"].value_counts()\n",
    "middle_obesity = middle_group[\"Obesity Level\"].value_counts()\n",
    "old_obesity = old_group[\"Obesity Level\"].value_counts()\n",
    "\n",
    "obesity_data = {\n",
    "    'Young': young_obesity,\n",
    "    'Middle': middle_obesity,\n",
    "    'Old': old_obesity\n",
    "}\n",
    "\n",
    "obesity_age_counts = pd.DataFrame(obesity_data)\n",
    "obesity_age_counts"
   ]
  },
  {
   "cell_type": "code",
   "execution_count": 190,
   "metadata": {},
   "outputs": [
    {
     "data": {
      "text/html": [
       "<div>\n",
       "<style scoped>\n",
       "    .dataframe tbody tr th:only-of-type {\n",
       "        vertical-align: middle;\n",
       "    }\n",
       "\n",
       "    .dataframe tbody tr th {\n",
       "        vertical-align: top;\n",
       "    }\n",
       "\n",
       "    .dataframe thead th {\n",
       "        text-align: right;\n",
       "    }\n",
       "</style>\n",
       "<table border=\"1\" class=\"dataframe\">\n",
       "  <thead>\n",
       "    <tr style=\"text-align: right;\">\n",
       "      <th></th>\n",
       "      <th>Young</th>\n",
       "      <th>Middle</th>\n",
       "      <th>Old</th>\n",
       "    </tr>\n",
       "    <tr>\n",
       "      <th>Alcohol Use</th>\n",
       "      <th></th>\n",
       "      <th></th>\n",
       "      <th></th>\n",
       "    </tr>\n",
       "  </thead>\n",
       "  <tbody>\n",
       "    <tr>\n",
       "      <th>Low Alcohol Use</th>\n",
       "      <td>294</td>\n",
       "      <td>251</td>\n",
       "      <td>20</td>\n",
       "    </tr>\n",
       "    <tr>\n",
       "      <th>High Alcohol Use</th>\n",
       "      <td>203</td>\n",
       "      <td>181</td>\n",
       "      <td>51</td>\n",
       "    </tr>\n",
       "  </tbody>\n",
       "</table>\n",
       "</div>"
      ],
      "text/plain": [
       "                  Young  Middle  Old\n",
       "Alcohol Use                         \n",
       "Low Alcohol Use     294     251   20\n",
       "High Alcohol Use    203     181   51"
      ]
     },
     "execution_count": 190,
     "metadata": {},
     "output_type": "execute_result"
    }
   ],
   "source": [
    "#make a data frame for alcohol use\n",
    "young_alcohol = young_group[\"Alcohol Use\"].value_counts()\n",
    "middle_alcohol = middle_group[\"Alcohol Use\"].value_counts()\n",
    "old_alcohol = old_group[\"Alcohol Use\"].value_counts()\n",
    "\n",
    "alcohol_data = {\n",
    "    'Young': young_alcohol,\n",
    "    'Middle': middle_alcohol,\n",
    "    'Old': old_alcohol\n",
    "}\n",
    "\n",
    "alcohol_age_counts = pd.DataFrame(alcohol_data)\n",
    "alcohol_age_counts"
   ]
  },
  {
   "cell_type": "code",
   "execution_count": 189,
   "metadata": {},
   "outputs": [
    {
     "data": {
      "text/html": [
       "<div>\n",
       "<style scoped>\n",
       "    .dataframe tbody tr th:only-of-type {\n",
       "        vertical-align: middle;\n",
       "    }\n",
       "\n",
       "    .dataframe tbody tr th {\n",
       "        vertical-align: top;\n",
       "    }\n",
       "\n",
       "    .dataframe thead th {\n",
       "        text-align: right;\n",
       "    }\n",
       "</style>\n",
       "<table border=\"1\" class=\"dataframe\">\n",
       "  <thead>\n",
       "    <tr style=\"text-align: right;\">\n",
       "      <th>Genetic Risk Level</th>\n",
       "      <th>Low Genetic Risk</th>\n",
       "      <th>High Genetic Risk</th>\n",
       "    </tr>\n",
       "  </thead>\n",
       "  <tbody>\n",
       "    <tr>\n",
       "      <th>Young</th>\n",
       "      <td>294</td>\n",
       "      <td>203</td>\n",
       "    </tr>\n",
       "    <tr>\n",
       "      <th>Middle</th>\n",
       "      <td>251</td>\n",
       "      <td>181</td>\n",
       "    </tr>\n",
       "    <tr>\n",
       "      <th>Old</th>\n",
       "      <td>20</td>\n",
       "      <td>51</td>\n",
       "    </tr>\n",
       "  </tbody>\n",
       "</table>\n",
       "</div>"
      ],
      "text/plain": [
       "Genetic Risk Level  Low Genetic Risk  High Genetic Risk\n",
       "Young                            294                203\n",
       "Middle                           251                181\n",
       "Old                               20                 51"
      ]
     },
     "execution_count": 189,
     "metadata": {},
     "output_type": "execute_result"
    }
   ],
   "source": [
    "#data frame for genetic risk\n",
    "#make a data frame for alcohol use\n",
    "young_genetics = young_group[\"Genetic Risk Level\"].value_counts()\n",
    "middle_genetics = middle_group[\"Genetic Risk Level\"].value_counts()\n",
    "old_genetics = old_group[\"Genetic Risk Level\"].value_counts()\n",
    "\n",
    "genetics_data = {\n",
    "    'Young': young_genetics,\n",
    "    'Middle': middle_genetics,\n",
    "    'Old': old_genetics\n",
    "}\n",
    "\n",
    "genetics_counts = pd.DataFrame(genetics_data)\n",
    "genetics_counts\n",
    "genetics_counts = genetics_counts.T\n",
    "genetics_counts"
   ]
  },
  {
   "cell_type": "code",
   "execution_count": 203,
   "metadata": {},
   "outputs": [
    {
     "name": "stdout",
     "output_type": "stream",
     "text": [
      "Smoking Habit  Low Smoking Habit  High Smoking Habit\n",
      "Young                        353                 144\n",
      "Middle                       261                 171\n",
      "Old                           30                  41\n",
      "Air Pollution Level  Low Air Pollution  High Air Pollution\n",
      "Young                              344                 153\n",
      "Middle                             251                 181\n",
      "Old                                 30                  41\n",
      "Obesity Level  Low Obesity Level  High Obesity Level\n",
      "Young                        315                 182\n",
      "Middle                       248                 184\n",
      "Old                           51                  20\n",
      "Alcohol Use  Low Alcohol Use  High Alcohol Use\n",
      "Young                    294               203\n",
      "Middle                   251               181\n",
      "Old                       20                51\n"
     ]
    }
   ],
   "source": [
    "#transpose data so all indexes are on age groups\n",
    "\n",
    "#smoking_habit_counts = smoking_habit_counts.T\n",
    "#air_age_counts = air_age_counts.T\n",
    "#obesity_age_counts = obesity_age_counts.T\n",
    "#alcohol_age_counts = alcohol_age_counts.T\n",
    "print(smoking_habit_counts)\n",
    "print(air_age_counts)\n",
    "print(obesity_age_counts)\n",
    "print(alcohol_age_counts)\n"
   ]
  },
  {
   "cell_type": "code",
   "execution_count": 207,
   "metadata": {},
   "outputs": [
    {
     "data": {
      "text/html": [
       "<div>\n",
       "<style scoped>\n",
       "    .dataframe tbody tr th:only-of-type {\n",
       "        vertical-align: middle;\n",
       "    }\n",
       "\n",
       "    .dataframe tbody tr th {\n",
       "        vertical-align: top;\n",
       "    }\n",
       "\n",
       "    .dataframe thead th {\n",
       "        text-align: right;\n",
       "    }\n",
       "</style>\n",
       "<table border=\"1\" class=\"dataframe\">\n",
       "  <thead>\n",
       "    <tr style=\"text-align: right;\">\n",
       "      <th></th>\n",
       "      <th>Low Genetic Risk</th>\n",
       "      <th>High Genetic Risk</th>\n",
       "      <th>Low Smoking Habit</th>\n",
       "      <th>High Smoking Habit</th>\n",
       "      <th>Low Air Pollution</th>\n",
       "      <th>High Air Pollution</th>\n",
       "      <th>Low Obesity Level</th>\n",
       "      <th>High Obesity Level</th>\n",
       "      <th>Low Alcohol Use</th>\n",
       "      <th>High Alcohol Use</th>\n",
       "    </tr>\n",
       "  </thead>\n",
       "  <tbody>\n",
       "    <tr>\n",
       "      <th>Young</th>\n",
       "      <td>294</td>\n",
       "      <td>203</td>\n",
       "      <td>353</td>\n",
       "      <td>144</td>\n",
       "      <td>344</td>\n",
       "      <td>153</td>\n",
       "      <td>315</td>\n",
       "      <td>182</td>\n",
       "      <td>294</td>\n",
       "      <td>203</td>\n",
       "    </tr>\n",
       "    <tr>\n",
       "      <th>Middle</th>\n",
       "      <td>251</td>\n",
       "      <td>181</td>\n",
       "      <td>261</td>\n",
       "      <td>171</td>\n",
       "      <td>251</td>\n",
       "      <td>181</td>\n",
       "      <td>248</td>\n",
       "      <td>184</td>\n",
       "      <td>251</td>\n",
       "      <td>181</td>\n",
       "    </tr>\n",
       "    <tr>\n",
       "      <th>Old</th>\n",
       "      <td>20</td>\n",
       "      <td>51</td>\n",
       "      <td>30</td>\n",
       "      <td>41</td>\n",
       "      <td>30</td>\n",
       "      <td>41</td>\n",
       "      <td>51</td>\n",
       "      <td>20</td>\n",
       "      <td>20</td>\n",
       "      <td>51</td>\n",
       "    </tr>\n",
       "  </tbody>\n",
       "</table>\n",
       "</div>"
      ],
      "text/plain": [
       "        Low Genetic Risk  High Genetic Risk  Low Smoking Habit  \\\n",
       "Young                294                203                353   \n",
       "Middle               251                181                261   \n",
       "Old                   20                 51                 30   \n",
       "\n",
       "        High Smoking Habit  Low Air Pollution  High Air Pollution  \\\n",
       "Young                  144                344                 153   \n",
       "Middle                 171                251                 181   \n",
       "Old                     41                 30                  41   \n",
       "\n",
       "        Low Obesity Level  High Obesity Level  Low Alcohol Use  \\\n",
       "Young                 315                 182              294   \n",
       "Middle                248                 184              251   \n",
       "Old                    51                  20               20   \n",
       "\n",
       "        High Alcohol Use  \n",
       "Young                203  \n",
       "Middle               181  \n",
       "Old                   51  "
      ]
     },
     "execution_count": 207,
     "metadata": {},
     "output_type": "execute_result"
    }
   ],
   "source": [
    "#merge the data frames together\n",
    "merged_data = pd.merge(genetics_counts, smoking_habit_counts, left_index=True, right_index=True, how='inner')\n",
    "merg1 = pd.merge(merged_data, air_age_counts, left_index=True, right_index=True, how=\"inner\")\n",
    "merg2 = pd.merge(merg1, obesity_age_counts, left_index=True, right_index=True, how=\"inner\")\n",
    "merg3 = pd.merge(merg2, alcohol_age_counts, left_index=True, right_index=True, how=\"inner\")\n",
    "merg3"
   ]
  },
  {
   "cell_type": "code",
   "execution_count": 214,
   "metadata": {},
   "outputs": [],
   "source": [
    "young_all_risks = merg3.loc[\"Young\"]\n",
    "middle_all_risks = merg3.loc[\"Middle\"]\n",
    "old_all_risks = merg3.loc[\"Old\"]"
   ]
  },
  {
   "cell_type": "code",
   "execution_count": 219,
   "metadata": {},
   "outputs": [
    {
     "data": {
      "image/png": "[encoded data removed]",
      "text/plain": [
       "<Figure size 640x480 with 1 Axes>"
      ]
     },
     "metadata": {},
     "output_type": "display_data"
    }
   ],
   "source": [
    "young_all_risks.plot(kind =\"bar\", xlabel=\"Risk Factors\", ylabel=\"# of Patients\", title=\"Young Age Group Risks\")\n",
    "plt.show()"
   ]
  },
  {
   "cell_type": "code",
   "execution_count": 218,
   "metadata": {},
   "outputs": [
    {
     "data": {
      "text/plain": [
       "<Axes: title={'center': 'Middle Age Group Risks'}, xlabel='Risk Factors', ylabel='# of Patients'>"
      ]
     },
     "execution_count": 218,
     "metadata": {},
     "output_type": "execute_result"
    },
    {
     "data": {
      "image/png": "[encoded data removed]",
      "text/plain": [
       "<Figure size 640x480 with 1 Axes>"
      ]
     },
     "metadata": {},
     "output_type": "display_data"
    }
   ],
   "source": [
    "middle_all_risks.plot(kind =\"bar\", xlabel=\"Risk Factors\", ylabel=\"# of Patients\", title=\"Middle Age Group Risks\")"
   ]
  },
  {
   "cell_type": "code",
   "execution_count": 220,
   "metadata": {},
   "outputs": [
    {
     "data": {
      "text/plain": [
       "<Axes: title={'center': 'Old Age Group Risks'}, xlabel='Risk Factors', ylabel='# of Patients'>"
      ]
     },
     "execution_count": 220,
     "metadata": {},
     "output_type": "execute_result"
    },
    {
     "data": {
      "image/png": "[encoded data removed]",
      "text/plain": [
       "<Figure size 640x480 with 1 Axes>"
      ]
     },
     "metadata": {},
     "output_type": "display_data"
    }
   ],
   "source": [
    "old_all_risks.plot(kind =\"bar\", xlabel=\"Risk Factors\", ylabel=\"# of Patients\", title=\"Old Age Group Risks\")"
   ]
  },
  {
   "cell_type": "code",
   "execution_count": 210,
   "metadata": {},
   "outputs": [
    {
     "data": {
      "image/png": "[encoded data removed]",
      "text/plain": [
       "<Figure size 640x480 with 1 Axes>"
      ]
     },
     "metadata": {},
     "output_type": "display_data"
    },
    {
     "data": {
      "image/png": "[encoded data removed]",
      "text/plain": [
       "<Figure size 640x480 with 1 Axes>"
      ]
     },
     "metadata": {},
     "output_type": "display_data"
    },
    {
     "data": {
      "image/png": "[encoded data removed]",
      "text/plain": [
       "<Figure size 640x480 with 1 Axes>"
      ]
     },
     "metadata": {},
     "output_type": "display_data"
    },
    {
     "data": {
      "image/png": "[encoded data removed]",
      "text/plain": [
       "<Figure size 640x480 with 1 Axes>"
      ]
     },
     "metadata": {},
     "output_type": "display_data"
    },
    {
     "data": {
      "image/png": "[encoded data removed]",
      "text/plain": [
       "<Figure size 640x480 with 1 Axes>"
      ]
     },
     "metadata": {},
     "output_type": "display_data"
    }
   ],
   "source": [
    "#make a bar graph showing all the different risk factos by age group\n",
    "genetics_counts.plot(kind = \"bar\", xlabel=\"Age Groups\", ylabel=\"# of Patients\")\n",
    "smoking_habit_counts.plot(kind = \"bar\", xlabel=\"Age Groups\", ylabel=\"# of Patients\")\n",
    "air_age_counts.plot(kind = \"bar\", xlabel=\"Age Groups\", ylabel=\"# of Patients\")\n",
    "obesity_age_counts.plot(kind = \"bar\", xlabel=\"Age Groups\", ylabel=\"# of Patients\")\n",
    "alcohol_age_counts.plot(kind = \"bar\", xlabel=\"Age Groups\", ylabel=\"# of Patients\")\n",
    "\n",
    "plt.show()"
   ]
  }
 ],
 "metadata": {
  "kernelspec": {
   "display_name": "dev",
   "language": "python",
   "name": "python3"
  },
  "language_info": {
   "codemirror_mode": {
    "name": "ipython",
    "version": 3
   },
   "file_extension": ".py",
   "mimetype": "text/x-python",
   "name": "python",
   "nbconvert_exporter": "python",
   "pygments_lexer": "ipython3",
   "version": "3.10.13"
  }
 },
 "nbformat": 4,
 "nbformat_minor": 2
}
