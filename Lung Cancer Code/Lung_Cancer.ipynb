{
 "cells": [
  {
   "cell_type": "code",
   "execution_count": 52,
   "metadata": {},
   "outputs": [],
   "source": [
    "#import libraries \n",
    "\n",
    "import pandas as pd\n",
    "import matplotlib.pyplot as plt\n",
    "import scipy.stats as st\n",
    "import numpy as np"
   ]
  },
  {
   "cell_type": "code",
   "execution_count": 5,
   "metadata": {},
   "outputs": [
    {
     "data": {
      "text/html": [
       "<div>\n",
       "<style scoped>\n",
       "    .dataframe tbody tr th:only-of-type {\n",
       "        vertical-align: middle;\n",
       "    }\n",
       "\n",
       "    .dataframe tbody tr th {\n",
       "        vertical-align: top;\n",
       "    }\n",
       "\n",
       "    .dataframe thead th {\n",
       "        text-align: right;\n",
       "    }\n",
       "</style>\n",
       "<table border=\"1\" class=\"dataframe\">\n",
       "  <thead>\n",
       "    <tr style=\"text-align: right;\">\n",
       "      <th></th>\n",
       "      <th>index</th>\n",
       "      <th>Patient Id</th>\n",
       "      <th>Age</th>\n",
       "      <th>Gender</th>\n",
       "      <th>Air Pollution</th>\n",
       "      <th>Alcohol use</th>\n",
       "      <th>Dust Allergy</th>\n",
       "      <th>OccuPational Hazards</th>\n",
       "      <th>Genetic Risk</th>\n",
       "      <th>chronic Lung Disease</th>\n",
       "      <th>...</th>\n",
       "      <th>Fatigue</th>\n",
       "      <th>Weight Loss</th>\n",
       "      <th>Shortness of Breath</th>\n",
       "      <th>Wheezing</th>\n",
       "      <th>Swallowing Difficulty</th>\n",
       "      <th>Clubbing of Finger Nails</th>\n",
       "      <th>Frequent Cold</th>\n",
       "      <th>Dry Cough</th>\n",
       "      <th>Snoring</th>\n",
       "      <th>Level</th>\n",
       "    </tr>\n",
       "  </thead>\n",
       "  <tbody>\n",
       "    <tr>\n",
       "      <th>0</th>\n",
       "      <td>0</td>\n",
       "      <td>P1</td>\n",
       "      <td>33</td>\n",
       "      <td>1</td>\n",
       "      <td>2</td>\n",
       "      <td>4</td>\n",
       "      <td>5</td>\n",
       "      <td>4</td>\n",
       "      <td>3</td>\n",
       "      <td>2</td>\n",
       "      <td>...</td>\n",
       "      <td>3</td>\n",
       "      <td>4</td>\n",
       "      <td>2</td>\n",
       "      <td>2</td>\n",
       "      <td>3</td>\n",
       "      <td>1</td>\n",
       "      <td>2</td>\n",
       "      <td>3</td>\n",
       "      <td>4</td>\n",
       "      <td>Low</td>\n",
       "    </tr>\n",
       "    <tr>\n",
       "      <th>1</th>\n",
       "      <td>1</td>\n",
       "      <td>P10</td>\n",
       "      <td>17</td>\n",
       "      <td>1</td>\n",
       "      <td>3</td>\n",
       "      <td>1</td>\n",
       "      <td>5</td>\n",
       "      <td>3</td>\n",
       "      <td>4</td>\n",
       "      <td>2</td>\n",
       "      <td>...</td>\n",
       "      <td>1</td>\n",
       "      <td>3</td>\n",
       "      <td>7</td>\n",
       "      <td>8</td>\n",
       "      <td>6</td>\n",
       "      <td>2</td>\n",
       "      <td>1</td>\n",
       "      <td>7</td>\n",
       "      <td>2</td>\n",
       "      <td>Medium</td>\n",
       "    </tr>\n",
       "    <tr>\n",
       "      <th>2</th>\n",
       "      <td>2</td>\n",
       "      <td>P100</td>\n",
       "      <td>35</td>\n",
       "      <td>1</td>\n",
       "      <td>4</td>\n",
       "      <td>5</td>\n",
       "      <td>6</td>\n",
       "      <td>5</td>\n",
       "      <td>5</td>\n",
       "      <td>4</td>\n",
       "      <td>...</td>\n",
       "      <td>8</td>\n",
       "      <td>7</td>\n",
       "      <td>9</td>\n",
       "      <td>2</td>\n",
       "      <td>1</td>\n",
       "      <td>4</td>\n",
       "      <td>6</td>\n",
       "      <td>7</td>\n",
       "      <td>2</td>\n",
       "      <td>High</td>\n",
       "    </tr>\n",
       "    <tr>\n",
       "      <th>3</th>\n",
       "      <td>3</td>\n",
       "      <td>P1000</td>\n",
       "      <td>37</td>\n",
       "      <td>1</td>\n",
       "      <td>7</td>\n",
       "      <td>7</td>\n",
       "      <td>7</td>\n",
       "      <td>7</td>\n",
       "      <td>6</td>\n",
       "      <td>7</td>\n",
       "      <td>...</td>\n",
       "      <td>4</td>\n",
       "      <td>2</td>\n",
       "      <td>3</td>\n",
       "      <td>1</td>\n",
       "      <td>4</td>\n",
       "      <td>5</td>\n",
       "      <td>6</td>\n",
       "      <td>7</td>\n",
       "      <td>5</td>\n",
       "      <td>High</td>\n",
       "    </tr>\n",
       "    <tr>\n",
       "      <th>4</th>\n",
       "      <td>4</td>\n",
       "      <td>P101</td>\n",
       "      <td>46</td>\n",
       "      <td>1</td>\n",
       "      <td>6</td>\n",
       "      <td>8</td>\n",
       "      <td>7</td>\n",
       "      <td>7</td>\n",
       "      <td>7</td>\n",
       "      <td>6</td>\n",
       "      <td>...</td>\n",
       "      <td>3</td>\n",
       "      <td>2</td>\n",
       "      <td>4</td>\n",
       "      <td>1</td>\n",
       "      <td>4</td>\n",
       "      <td>2</td>\n",
       "      <td>4</td>\n",
       "      <td>2</td>\n",
       "      <td>3</td>\n",
       "      <td>High</td>\n",
       "    </tr>\n",
       "  </tbody>\n",
       "</table>\n",
       "<p>5 rows × 26 columns</p>\n",
       "</div>"
      ],
      "text/plain": [
       "   index Patient Id  Age  Gender  Air Pollution  Alcohol use  Dust Allergy  \\\n",
       "0      0         P1   33       1              2            4             5   \n",
       "1      1        P10   17       1              3            1             5   \n",
       "2      2       P100   35       1              4            5             6   \n",
       "3      3      P1000   37       1              7            7             7   \n",
       "4      4       P101   46       1              6            8             7   \n",
       "\n",
       "   OccuPational Hazards  Genetic Risk  chronic Lung Disease  ...  Fatigue  \\\n",
       "0                     4             3                     2  ...        3   \n",
       "1                     3             4                     2  ...        1   \n",
       "2                     5             5                     4  ...        8   \n",
       "3                     7             6                     7  ...        4   \n",
       "4                     7             7                     6  ...        3   \n",
       "\n",
       "   Weight Loss  Shortness of Breath  Wheezing  Swallowing Difficulty  \\\n",
       "0            4                    2         2                      3   \n",
       "1            3                    7         8                      6   \n",
       "2            7                    9         2                      1   \n",
       "3            2                    3         1                      4   \n",
       "4            2                    4         1                      4   \n",
       "\n",
       "   Clubbing of Finger Nails  Frequent Cold  Dry Cough  Snoring   Level  \n",
       "0                         1              2          3        4     Low  \n",
       "1                         2              1          7        2  Medium  \n",
       "2                         4              6          7        2    High  \n",
       "3                         5              6          7        5    High  \n",
       "4                         2              4          2        3    High  \n",
       "\n",
       "[5 rows x 26 columns]"
      ]
     },
     "execution_count": 5,
     "metadata": {},
     "output_type": "execute_result"
    }
   ],
   "source": [
    "#set file path\n",
    "cancer_data_path = \"../Resources/cancer patient data sets.csv\"\n",
    "#read the file path\n",
    "cancer_data = pd.read_csv(cancer_data_path)\n",
    "cancer_data.head()"
   ]
  },
  {
   "cell_type": "code",
   "execution_count": 8,
   "metadata": {},
   "outputs": [
    {
     "data": {
      "text/plain": [
       "1000"
      ]
     },
     "execution_count": 8,
     "metadata": {},
     "output_type": "execute_result"
    }
   ],
   "source": [
    "#check that the data is clean - check for duplicate values in Patient ID\n",
    "cancer_data[\"Patient Id\"].nunique()"
   ]
  },
  {
   "cell_type": "code",
   "execution_count": 12,
   "metadata": {},
   "outputs": [
    {
     "name": "stdout",
     "output_type": "stream",
     "text": [
      "<class 'pandas.core.frame.DataFrame'>\n",
      "RangeIndex: 1000 entries, 0 to 999\n",
      "Data columns (total 26 columns):\n",
      " #   Column                    Non-Null Count  Dtype \n",
      "---  ------                    --------------  ----- \n",
      " 0   index                     1000 non-null   int64 \n",
      " 1   Patient Id                1000 non-null   object\n",
      " 2   Age                       1000 non-null   int64 \n",
      " 3   Gender                    1000 non-null   int64 \n",
      " 4   Air Pollution             1000 non-null   int64 \n",
      " 5   Alcohol use               1000 non-null   int64 \n",
      " 6   Dust Allergy              1000 non-null   int64 \n",
      " 7   OccuPational Hazards      1000 non-null   int64 \n",
      " 8   Genetic Risk              1000 non-null   int64 \n",
      " 9   chronic Lung Disease      1000 non-null   int64 \n",
      " 10  Balanced Diet             1000 non-null   int64 \n",
      " 11  Obesity                   1000 non-null   int64 \n",
      " 12  Smoking                   1000 non-null   int64 \n",
      " 13  Passive Smoker            1000 non-null   int64 \n",
      " 14  Chest Pain                1000 non-null   int64 \n",
      " 15  Coughing of Blood         1000 non-null   int64 \n",
      " 16  Fatigue                   1000 non-null   int64 \n",
      " 17  Weight Loss               1000 non-null   int64 \n",
      " 18  Shortness of Breath       1000 non-null   int64 \n",
      " 19  Wheezing                  1000 non-null   int64 \n",
      " 20  Swallowing Difficulty     1000 non-null   int64 \n",
      " 21  Clubbing of Finger Nails  1000 non-null   int64 \n",
      " 22  Frequent Cold             1000 non-null   int64 \n",
      " 23  Dry Cough                 1000 non-null   int64 \n",
      " 24  Snoring                   1000 non-null   int64 \n",
      " 25  Level                     1000 non-null   object\n",
      "dtypes: int64(24), object(2)\n",
      "memory usage: 203.2+ KB\n"
     ]
    }
   ],
   "source": [
    "#cleaning data - checking that all columns are filled out\n",
    "cancer_data.info()"
   ]
  },
  {
   "cell_type": "code",
   "execution_count": 15,
   "metadata": {},
   "outputs": [
    {
     "data": {
      "text/html": [
       "<div>\n",
       "<style scoped>\n",
       "    .dataframe tbody tr th:only-of-type {\n",
       "        vertical-align: middle;\n",
       "    }\n",
       "\n",
       "    .dataframe tbody tr th {\n",
       "        vertical-align: top;\n",
       "    }\n",
       "\n",
       "    .dataframe thead th {\n",
       "        text-align: right;\n",
       "    }\n",
       "</style>\n",
       "<table border=\"1\" class=\"dataframe\">\n",
       "  <thead>\n",
       "    <tr style=\"text-align: right;\">\n",
       "      <th></th>\n",
       "      <th>Patient Id</th>\n",
       "      <th>Age</th>\n",
       "      <th>Gender</th>\n",
       "      <th>Air Pollution</th>\n",
       "      <th>Alcohol use</th>\n",
       "      <th>Genetic Risk</th>\n",
       "      <th>Obesity</th>\n",
       "      <th>Smoking</th>\n",
       "      <th>Passive Smoker</th>\n",
       "      <th>Level</th>\n",
       "    </tr>\n",
       "  </thead>\n",
       "  <tbody>\n",
       "    <tr>\n",
       "      <th>0</th>\n",
       "      <td>P1</td>\n",
       "      <td>33</td>\n",
       "      <td>1</td>\n",
       "      <td>2</td>\n",
       "      <td>4</td>\n",
       "      <td>3</td>\n",
       "      <td>4</td>\n",
       "      <td>3</td>\n",
       "      <td>2</td>\n",
       "      <td>Low</td>\n",
       "    </tr>\n",
       "    <tr>\n",
       "      <th>1</th>\n",
       "      <td>P10</td>\n",
       "      <td>17</td>\n",
       "      <td>1</td>\n",
       "      <td>3</td>\n",
       "      <td>1</td>\n",
       "      <td>4</td>\n",
       "      <td>2</td>\n",
       "      <td>2</td>\n",
       "      <td>4</td>\n",
       "      <td>Medium</td>\n",
       "    </tr>\n",
       "    <tr>\n",
       "      <th>2</th>\n",
       "      <td>P100</td>\n",
       "      <td>35</td>\n",
       "      <td>1</td>\n",
       "      <td>4</td>\n",
       "      <td>5</td>\n",
       "      <td>5</td>\n",
       "      <td>7</td>\n",
       "      <td>2</td>\n",
       "      <td>3</td>\n",
       "      <td>High</td>\n",
       "    </tr>\n",
       "    <tr>\n",
       "      <th>3</th>\n",
       "      <td>P1000</td>\n",
       "      <td>37</td>\n",
       "      <td>1</td>\n",
       "      <td>7</td>\n",
       "      <td>7</td>\n",
       "      <td>6</td>\n",
       "      <td>7</td>\n",
       "      <td>7</td>\n",
       "      <td>7</td>\n",
       "      <td>High</td>\n",
       "    </tr>\n",
       "    <tr>\n",
       "      <th>4</th>\n",
       "      <td>P101</td>\n",
       "      <td>46</td>\n",
       "      <td>1</td>\n",
       "      <td>6</td>\n",
       "      <td>8</td>\n",
       "      <td>7</td>\n",
       "      <td>7</td>\n",
       "      <td>8</td>\n",
       "      <td>7</td>\n",
       "      <td>High</td>\n",
       "    </tr>\n",
       "  </tbody>\n",
       "</table>\n",
       "</div>"
      ],
      "text/plain": [
       "  Patient Id  Age  Gender  Air Pollution  Alcohol use  Genetic Risk  Obesity  \\\n",
       "0         P1   33       1              2            4             3        4   \n",
       "1        P10   17       1              3            1             4        2   \n",
       "2       P100   35       1              4            5             5        7   \n",
       "3      P1000   37       1              7            7             6        7   \n",
       "4       P101   46       1              6            8             7        7   \n",
       "\n",
       "   Smoking  Passive Smoker   Level  \n",
       "0        3               2     Low  \n",
       "1        2               4  Medium  \n",
       "2        2               3    High  \n",
       "3        7               7    High  \n",
       "4        8               7    High  "
      ]
     },
     "execution_count": 15,
     "metadata": {},
     "output_type": "execute_result"
    }
   ],
   "source": [
    "#cleaning data - create new data frame that removes excess columnns\n",
    "clean_cancer = cancer_data[[\"Patient Id\", \"Age\", \"Gender\", \"Air Pollution\", \"Alcohol use\", \"Genetic Risk\", \"Obesity\", \"Smoking\", \"Passive Smoker\", \"Level\"]]\n",
    "clean_cancer.head()"
   ]
  },
  {
   "cell_type": "code",
   "execution_count": 27,
   "metadata": {},
   "outputs": [
    {
     "data": {
      "text/html": [
       "<div>\n",
       "<style scoped>\n",
       "    .dataframe tbody tr th:only-of-type {\n",
       "        vertical-align: middle;\n",
       "    }\n",
       "\n",
       "    .dataframe tbody tr th {\n",
       "        vertical-align: top;\n",
       "    }\n",
       "\n",
       "    .dataframe thead th {\n",
       "        text-align: right;\n",
       "    }\n",
       "</style>\n",
       "<table border=\"1\" class=\"dataframe\">\n",
       "  <thead>\n",
       "    <tr style=\"text-align: right;\">\n",
       "      <th></th>\n",
       "      <th>Patient Id</th>\n",
       "      <th>Age</th>\n",
       "      <th>Gender</th>\n",
       "      <th>Air Pollution</th>\n",
       "      <th>Alcohol use</th>\n",
       "      <th>Genetic Risk</th>\n",
       "      <th>Obesity</th>\n",
       "      <th>Smoking</th>\n",
       "      <th>Passive Smoker</th>\n",
       "      <th>Level</th>\n",
       "    </tr>\n",
       "  </thead>\n",
       "  <tbody>\n",
       "    <tr>\n",
       "      <th>0</th>\n",
       "      <td>P1</td>\n",
       "      <td>33</td>\n",
       "      <td>Male</td>\n",
       "      <td>2</td>\n",
       "      <td>4</td>\n",
       "      <td>3</td>\n",
       "      <td>4</td>\n",
       "      <td>3</td>\n",
       "      <td>2</td>\n",
       "      <td>Low</td>\n",
       "    </tr>\n",
       "    <tr>\n",
       "      <th>1</th>\n",
       "      <td>P10</td>\n",
       "      <td>17</td>\n",
       "      <td>Male</td>\n",
       "      <td>3</td>\n",
       "      <td>1</td>\n",
       "      <td>4</td>\n",
       "      <td>2</td>\n",
       "      <td>2</td>\n",
       "      <td>4</td>\n",
       "      <td>Medium</td>\n",
       "    </tr>\n",
       "    <tr>\n",
       "      <th>2</th>\n",
       "      <td>P100</td>\n",
       "      <td>35</td>\n",
       "      <td>Male</td>\n",
       "      <td>4</td>\n",
       "      <td>5</td>\n",
       "      <td>5</td>\n",
       "      <td>7</td>\n",
       "      <td>2</td>\n",
       "      <td>3</td>\n",
       "      <td>High</td>\n",
       "    </tr>\n",
       "    <tr>\n",
       "      <th>3</th>\n",
       "      <td>P1000</td>\n",
       "      <td>37</td>\n",
       "      <td>Male</td>\n",
       "      <td>7</td>\n",
       "      <td>7</td>\n",
       "      <td>6</td>\n",
       "      <td>7</td>\n",
       "      <td>7</td>\n",
       "      <td>7</td>\n",
       "      <td>High</td>\n",
       "    </tr>\n",
       "    <tr>\n",
       "      <th>4</th>\n",
       "      <td>P101</td>\n",
       "      <td>46</td>\n",
       "      <td>Male</td>\n",
       "      <td>6</td>\n",
       "      <td>8</td>\n",
       "      <td>7</td>\n",
       "      <td>7</td>\n",
       "      <td>8</td>\n",
       "      <td>7</td>\n",
       "      <td>High</td>\n",
       "    </tr>\n",
       "    <tr>\n",
       "      <th>...</th>\n",
       "      <td>...</td>\n",
       "      <td>...</td>\n",
       "      <td>...</td>\n",
       "      <td>...</td>\n",
       "      <td>...</td>\n",
       "      <td>...</td>\n",
       "      <td>...</td>\n",
       "      <td>...</td>\n",
       "      <td>...</td>\n",
       "      <td>...</td>\n",
       "    </tr>\n",
       "    <tr>\n",
       "      <th>995</th>\n",
       "      <td>P995</td>\n",
       "      <td>44</td>\n",
       "      <td>Male</td>\n",
       "      <td>6</td>\n",
       "      <td>7</td>\n",
       "      <td>7</td>\n",
       "      <td>7</td>\n",
       "      <td>7</td>\n",
       "      <td>8</td>\n",
       "      <td>High</td>\n",
       "    </tr>\n",
       "    <tr>\n",
       "      <th>996</th>\n",
       "      <td>P996</td>\n",
       "      <td>37</td>\n",
       "      <td>Female</td>\n",
       "      <td>6</td>\n",
       "      <td>8</td>\n",
       "      <td>7</td>\n",
       "      <td>7</td>\n",
       "      <td>7</td>\n",
       "      <td>8</td>\n",
       "      <td>High</td>\n",
       "    </tr>\n",
       "    <tr>\n",
       "      <th>997</th>\n",
       "      <td>P997</td>\n",
       "      <td>25</td>\n",
       "      <td>Female</td>\n",
       "      <td>4</td>\n",
       "      <td>5</td>\n",
       "      <td>5</td>\n",
       "      <td>7</td>\n",
       "      <td>2</td>\n",
       "      <td>3</td>\n",
       "      <td>High</td>\n",
       "    </tr>\n",
       "    <tr>\n",
       "      <th>998</th>\n",
       "      <td>P998</td>\n",
       "      <td>18</td>\n",
       "      <td>Female</td>\n",
       "      <td>6</td>\n",
       "      <td>8</td>\n",
       "      <td>7</td>\n",
       "      <td>7</td>\n",
       "      <td>8</td>\n",
       "      <td>7</td>\n",
       "      <td>High</td>\n",
       "    </tr>\n",
       "    <tr>\n",
       "      <th>999</th>\n",
       "      <td>P999</td>\n",
       "      <td>47</td>\n",
       "      <td>Male</td>\n",
       "      <td>6</td>\n",
       "      <td>5</td>\n",
       "      <td>5</td>\n",
       "      <td>7</td>\n",
       "      <td>2</td>\n",
       "      <td>3</td>\n",
       "      <td>High</td>\n",
       "    </tr>\n",
       "  </tbody>\n",
       "</table>\n",
       "<p>1000 rows × 10 columns</p>\n",
       "</div>"
      ],
      "text/plain": [
       "    Patient Id  Age  Gender  Air Pollution  Alcohol use  Genetic Risk  \\\n",
       "0           P1   33    Male              2            4             3   \n",
       "1          P10   17    Male              3            1             4   \n",
       "2         P100   35    Male              4            5             5   \n",
       "3        P1000   37    Male              7            7             6   \n",
       "4         P101   46    Male              6            8             7   \n",
       "..         ...  ...     ...            ...          ...           ...   \n",
       "995       P995   44    Male              6            7             7   \n",
       "996       P996   37  Female              6            8             7   \n",
       "997       P997   25  Female              4            5             5   \n",
       "998       P998   18  Female              6            8             7   \n",
       "999       P999   47    Male              6            5             5   \n",
       "\n",
       "     Obesity  Smoking  Passive Smoker   Level  \n",
       "0          4        3               2     Low  \n",
       "1          2        2               4  Medium  \n",
       "2          7        2               3    High  \n",
       "3          7        7               7    High  \n",
       "4          7        8               7    High  \n",
       "..       ...      ...             ...     ...  \n",
       "995        7        7               8    High  \n",
       "996        7        7               8    High  \n",
       "997        7        2               3    High  \n",
       "998        7        8               7    High  \n",
       "999        7        2               3    High  \n",
       "\n",
       "[1000 rows x 10 columns]"
      ]
     },
     "execution_count": 27,
     "metadata": {},
     "output_type": "execute_result"
    }
   ],
   "source": [
    "#cleaning data - replace \"1\" in Gender to Male and \"2\" to Female\n",
    "clean_cancer.loc[clean_cancer[\"Gender\"] == 1, \"Gender\"] = \"Male\"\n",
    "clean_cancer.loc[clean_cancer[\"Gender\"] == 2, \"Gender\"] = \"Female\"\n",
    "clean_cancer"
   ]
  },
  {
   "cell_type": "code",
   "execution_count": 28,
   "metadata": {},
   "outputs": [
    {
     "data": {
      "text/plain": [
       "Patient Id        object\n",
       "Age                int64\n",
       "Gender            object\n",
       "Air Pollution      int64\n",
       "Alcohol use        int64\n",
       "Genetic Risk       int64\n",
       "Obesity            int64\n",
       "Smoking            int64\n",
       "Passive Smoker     int64\n",
       "Level             object\n",
       "dtype: object"
      ]
     },
     "execution_count": 28,
     "metadata": {},
     "output_type": "execute_result"
    }
   ],
   "source": [
    "clean_cancer.dtypes"
   ]
  },
  {
   "cell_type": "code",
   "execution_count": 50,
   "metadata": {},
   "outputs": [
    {
     "data": {
      "text/plain": [
       "array(['Low', 'Medium', 'High'], dtype=object)"
      ]
     },
     "execution_count": 50,
     "metadata": {},
     "output_type": "execute_result"
    }
   ],
   "source": [
    "labels=clean_cancer[\"Level\"].unique()\n",
    "labels"
   ]
  },
  {
   "cell_type": "code",
   "execution_count": 59,
   "metadata": {},
   "outputs": [
    {
     "data": {
      "image/png": "[encoded data removed]",
      "text/plain": [
       "<Figure size 640x480 with 1 Axes>"
      ]
     },
     "metadata": {},
     "output_type": "display_data"
    }
   ],
   "source": [
    "#create a box plot showing level of air pollution to level of cancer\n",
    "levels = [\"Low\", \"Medium\", \"High\"]\n",
    "air_pollution = []\n",
    "\n",
    "for level in levels:\n",
    "    pollution_value = clean_cancer.loc[clean_cancer[\"Level\"] == level,\"Air Pollution\"]\n",
    "    air_pollution.append(pollution_value)\n",
    "    quartiles = pollution_value.quantile([0.25,0.5,0.75])\n",
    "\n",
    "plt.ylabel(\"Air Pollution\")\n",
    "plt.boxplot(air_pollution, labels=levels)\n",
    "plt.title(\"Level of Air Pollution per Cancer Level\")\n",
    "plt.show()\n"
   ]
  },
  {
   "cell_type": "code",
   "execution_count": 29,
   "metadata": {},
   "outputs": [
    {
     "data": {
      "text/plain": [
       "Gender\n",
       "Male      598\n",
       "Female    402\n",
       "Name: count, dtype: int64"
      ]
     },
     "execution_count": 29,
     "metadata": {},
     "output_type": "execute_result"
    }
   ],
   "source": [
    "#prepare data to plot ratio of men to women\n",
    "gender_counts = clean_cancer[\"Gender\"].value_counts()\n",
    "gender_counts"
   ]
  },
  {
   "cell_type": "code",
   "execution_count": 33,
   "metadata": {},
   "outputs": [
    {
     "data": {
      "image/png": "[encoded data removed]",
      "text/plain": [
       "<Figure size 640x480 with 1 Axes>"
      ]
     },
     "metadata": {},
     "output_type": "display_data"
    }
   ],
   "source": [
    "#plot the ratio of men to women in the study\n",
    "pie_graph = gender_counts.plot(kind=\"pie\", y=\"Gender\", autopct='%1.1f%%')\n",
    "pie_graph.set_ylabel(\"Gender\")\n",
    "plt.show()"
   ]
  },
  {
   "cell_type": "code",
   "execution_count": 40,
   "metadata": {},
   "outputs": [],
   "source": [
    "#create the gender subgroups\n",
    "male_group = clean_cancer.loc[clean_cancer[\"Gender\"] == \"Male\"]\n",
    "female_group = clean_cancer.loc[clean_cancer[\"Gender\"]== \"Female\"]"
   ]
  },
  {
   "cell_type": "code",
   "execution_count": 70,
   "metadata": {},
   "outputs": [],
   "source": [
    "#Find the average level of alcohol use, obseity, and smoking for male and female groups\n",
    "male_alcohol = male_group[\"Alcohol use\"].mean()\n",
    "female_alcohol = female_group[\"Alcohol use\"].mean()\n",
    "male_obesity = male_group[\"Obesity\"].mean()\n",
    "female_obesity = female_group[\"Obesity\"].mean()\n",
    "male_smoking = male_group[\"Smoking\"].mean()\n",
    "female_smoking = female_group[\"Smoking\"].mean()\n"
   ]
  },
  {
   "cell_type": "code",
   "execution_count": 68,
   "metadata": {},
   "outputs": [],
   "source": [
    "#create function to plot male vs female average risk factors\n",
    "\n",
    "def plots (y_axis, y_label, title):\n",
    "    x_axis = [\"Male\", \"Female\"]\n",
    "    colors=[\"blue\", \"red\"]\n",
    "    plt.bar(x_axis, y_axis, color=colors)\n",
    "    plt.ylabel(y_label)\n",
    "    plt.xlabel(\"Gender\")\n",
    "    plt.title(title)\n",
    "    plt.show()\n"
   ]
  },
  {
   "cell_type": "code",
   "execution_count": 69,
   "metadata": {},
   "outputs": [
    {
     "data": {
      "image/png": "[encoded data removed]",
      "text/plain": [
       "<Figure size 640x480 with 1 Axes>"
      ]
     },
     "metadata": {},
     "output_type": "display_data"
    }
   ],
   "source": [
    "y = [male_alcohol, female_alcohol]\n",
    "plots (y, \"Average Alcohol Intake Level\", \"Average Alcohol Intake By Gender\")"
   ]
  },
  {
   "cell_type": "code",
   "execution_count": 72,
   "metadata": {},
   "outputs": [
    {
     "data": {
      "image/png": "[encoded data removed]",
      "text/plain": [
       "<Figure size 640x480 with 1 Axes>"
      ]
     },
     "metadata": {},
     "output_type": "display_data"
    }
   ],
   "source": [
    "y = [male_obesity, female_obesity]\n",
    "plots (y, \"Average Obesity Level\", \"Average Obesity By Gender\")"
   ]
  },
  {
   "cell_type": "code",
   "execution_count": 73,
   "metadata": {},
   "outputs": [
    {
     "data": {
      "image/png": "[encoded data removed]",
      "text/plain": [
       "<Figure size 640x480 with 1 Axes>"
      ]
     },
     "metadata": {},
     "output_type": "display_data"
    }
   ],
   "source": [
    "y = [male_smoking, female_smoking]\n",
    "plots (y, \"Average Smoking Level\", \"Average Smoking Level By Gender\")"
   ]
  },
  {
   "cell_type": "code",
   "execution_count": null,
   "metadata": {},
   "outputs": [],
   "source": [
    "clean_caner = clean_cancer.groupby()"
   ]
  },
  {
   "cell_type": "code",
   "execution_count": 76,
   "metadata": {},
   "outputs": [
    {
     "data": {
      "image/png": "[encoded data removed]",
      "text/plain": [
       "<Figure size 640x480 with 1 Axes>"
      ]
     },
     "metadata": {},
     "output_type": "display_data"
    }
   ],
   "source": [
    "#create a pie chart for each gender to look a levels of cancer per gender\n",
    "male_levels = male_group[\"Level\"].value_counts()\n",
    "pie_graph = male_levels.plot(kind=\"pie\", y=\"Level\", autopct='%1.1f%%')\n",
    "pie_graph.set_ylabel(\"Level\")\n",
    "plt.show()"
   ]
  },
  {
   "cell_type": "code",
   "execution_count": 77,
   "metadata": {},
   "outputs": [
    {
     "data": {
      "image/png": "[encoded data removed]",
      "text/plain": [
       "<Figure size 640x480 with 1 Axes>"
      ]
     },
     "metadata": {},
     "output_type": "display_data"
    }
   ],
   "source": [
    "female_levels = female_group[\"Level\"].value_counts()\n",
    "pie_graph = female_levels.plot(kind=\"pie\", y=\"Level\", autopct='%1.1f%%')\n",
    "pie_graph.set_ylabel(\"Level\")\n",
    "plt.show()"
   ]
  }
 ],
 "metadata": {
  "kernelspec": {
   "display_name": "dev",
   "language": "python",
   "name": "python3"
  },
  "language_info": {
   "codemirror_mode": {
    "name": "ipython",
    "version": 3
   },
   "file_extension": ".py",
   "mimetype": "text/x-python",
   "name": "python",
   "nbconvert_exporter": "python",
   "pygments_lexer": "ipython3",
   "version": "3.10.13"
  }
 },
 "nbformat": 4,
 "nbformat_minor": 2
}
