{
 "cells": [
  {
   "cell_type": "markdown",
   "metadata": {},
   "source": [
    "Lung Cancer Research Project\n",
    "\n"
   ]
  },
  {
   "cell_type": "markdown",
   "metadata": {},
   "source": [
    "Clean Up Data"
   ]
  },
  {
   "cell_type": "code",
   "execution_count": null,
   "metadata": {},
   "outputs": [],
   "source": [
    "import pandas as pd\n",
    "import matplotlib.pyplot as plt\n",
    "import scipy.stats as st\n",
    "import numpy as np\n",
    "import requests\n",
    "import hvplot.pandas\n",
    "\n",
    "# Import the OpenWeatherMap API key\n",
    "from api_key import weather_api_key\n"
   ]
  },
  {
   "cell_type": "code",
   "execution_count": null,
   "metadata": {},
   "outputs": [],
   "source": [
    "#set file path\n",
    "cancer_data_path = \"../Resources/cancer patient data sets.csv\"\n",
    "#read the file path\n",
    "cancer_data = pd.read_csv(cancer_data_path)\n",
    "cancer_data.head()"
   ]
  },
  {
   "cell_type": "code",
   "execution_count": null,
   "metadata": {},
   "outputs": [],
   "source": [
    "#cleaning data - checking that all columns are filled out\n",
    "cancer_data.info()"
   ]
  },
  {
   "cell_type": "code",
   "execution_count": null,
   "metadata": {},
   "outputs": [],
   "source": [
    "#cleaning data - create new data frame that removes excess columnns\n",
    "clean_cancer = cancer_data[[\"Patient Id\", \"Age\", \"Gender\", \"Air Pollution\", \"Alcohol use\", \"Genetic Risk\", \"Obesity\", \"Smoking\", \"Passive Smoker\", \"Level\"]]\n",
    "clean_cancer.head()"
   ]
  },
  {
   "cell_type": "markdown",
   "metadata": {},
   "source": [
    "Question 1 - How do the risk factors differ for different age groups of patients?"
   ]
  },
  {
   "cell_type": "markdown",
   "metadata": {},
   "source": [
    "Question 2 - How do the risk factors differ for male vs female patients?"
   ]
  },
  {
   "cell_type": "markdown",
   "metadata": {},
   "source": [
    "Question 3 - What is the relation of pollution to the level of cancer in patients?"
   ]
  },
  {
   "cell_type": "markdown",
   "metadata": {},
   "source": [
    "Question 4 - What is the relation of smoking habits to the level of cancer in patients?"
   ]
  },
  {
   "cell_type": "markdown",
   "metadata": {},
   "source": [
    "Conclusion"
   ]
  }
 ],
 "metadata": {
  "kernelspec": {
   "display_name": "dev",
   "language": "python",
   "name": "python3"
  },
  "language_info": {
   "name": "python",
   "version": "3.10.13"
  }
 },
 "nbformat": 4,
 "nbformat_minor": 2
}
